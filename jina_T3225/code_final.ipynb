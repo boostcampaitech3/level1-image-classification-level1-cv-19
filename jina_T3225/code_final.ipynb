{
 "cells": [
  {
   "cell_type": "markdown",
   "id": "b2f99b59",
   "metadata": {},
   "source": [
    "## Library"
   ]
  },
  {
   "cell_type": "code",
   "execution_count": 1,
   "id": "b0ec0237",
   "metadata": {},
   "outputs": [],
   "source": [
    "import os\n",
    "import pandas as pd\n",
    "from PIL import Image\n",
    "\n",
    "import torch\n",
    "import torch.nn as nn\n",
    "import torch.nn.functional as F\n",
    "from torch.utils.data import Dataset, DataLoader\n",
    "\n",
    "from torchvision import transforms\n",
    "from torchvision.transforms import Resize, ToTensor, Normalize"
   ]
  },
  {
   "cell_type": "markdown",
   "id": "8efc77d4",
   "metadata": {},
   "source": [
    "#### seed 고정"
   ]
  },
  {
   "cell_type": "code",
   "execution_count": 2,
   "id": "d2bca15b",
   "metadata": {},
   "outputs": [],
   "source": [
    "import numpy as np\n",
    "import random\n",
    "\n",
    "def seed_everything(seed):\n",
    "    torch.manual_seed(seed)\n",
    "    torch.cuda.manual_seed(seed)\n",
    "    torch.cuda.manual_seed_all(seed)  # if use multi-GPU\n",
    "    torch.backends.cudnn.deterministic = True\n",
    "    torch.backends.cudnn.benchmark = False\n",
    "    np.random.seed(seed)\n",
    "    random.seed(seed)\n",
    "\n",
    "seed = 42\n",
    "seed_everything(seed)"
   ]
  },
  {
   "cell_type": "markdown",
   "id": "eb210771",
   "metadata": {},
   "source": [
    "## 미스라벨링"
   ]
  },
  {
   "cell_type": "code",
   "execution_count": null,
   "id": "8e05bd78",
   "metadata": {},
   "outputs": [],
   "source": [
    "import os\n",
    "from glob import glob\n",
    "import pandas as pd\n",
    "import shutil\n",
    "\n",
    "def isFileChanged(file_path): # check if file changed based on last modified time \n",
    "    if os.path.getmtime(file_path) > 1614865992.0: \n",
    "        return True \n",
    "\n",
    "    return False\n",
    "\n",
    "def correct_mask_status(data_dir, invalid_list, correct_list):\n",
    "    print(\"=\"*50)\n",
    "    print(\"Change Mask Status\")\n",
    "\n",
    "    for folder in invalid_list: \n",
    "        image_dir = os.path.join(data_dir, folder)\n",
    "\n",
    "        incorrect_file = os.path.join(image_dir, correct_list[0])\n",
    "        normal_file = os.path.join(image_dir, correct_list[1])\n",
    "\n",
    "        if not isFileChanged(incorrect_file): #last modified time\n",
    "            temp = os.path.join(image_dir, correct_list[2])\n",
    "\n",
    "            os.rename(incorrect_file, temp)\n",
    "            os.rename(normal_file, incorrect_file)\n",
    "            os.rename(temp, normal_file)  # temp.jpg is not created in this folder\n",
    "\n",
    "            print(\"Changed File Names\")\n",
    "\n",
    "        else :\n",
    "            print(\"Already Changed\")\n",
    "    \n",
    "    print(\"Process Done\")\n",
    "\n",
    "\n",
    "\n",
    "def change_incorrect_gender(incorrect, src, target): \n",
    "    changed_path = incorrect.replace(src, target)\n",
    "    print(f\"{incorrect.split('images/')[1]} is changing into {target}\")\n",
    "    shutil.move(incorrect, changed_path)\n",
    "\n",
    "\n",
    "def correct_gender_status(data_dir, invalid_id_list): \n",
    "    df = pd.read_csv('/opt/ml/input/data/train/train.csv')\n",
    "\n",
    "    path_list = [] # list that contains incorrect file path\n",
    "    correct_gender_list = [] # list that contains correct gender of incorrect file path\n",
    "\n",
    "    print(\"=\"*50)\n",
    "    print(\"Change Gender Status\")\n",
    "\n",
    "    for path in df['path']:\n",
    "        for pid in invalid_id_list:\n",
    "            if pid in path:\n",
    "                path_list.append(path)\n",
    "                correct_gender_list.append(\"male\" if \"female\" in path else \"female\")\n",
    "\n",
    "    for idx, foldername in enumerate(path_list):\n",
    "        folder_dir = os.path.join(data_dir, foldername)\n",
    "        gender = correct_gender_list[idx]\n",
    "\n",
    "        if gender == \"male\" and os.path.exists(folder_dir):\n",
    "            change_incorrect_gender(folder_dir, \"female\", gender)\n",
    "\n",
    "        elif gender==\"female\" and os.path.exists(folder_dir):\n",
    "            change_incorrect_gender(folder_dir, \"male\", gender)\n",
    "\n",
    "    print(\"Process Done\")\n",
    "\n",
    "\n",
    "\n",
    "\n",
    "def readCurrentFolders(data_dir): # change age task should read current folders\n",
    "    return sorted(list(filter(lambda p:not p.startswith(\".\"), os.listdir(data_dir))))    \n",
    "\n",
    "\n",
    "def correct_age_status(data_dir, invalid_age_id):\n",
    "    current_folders = readCurrentFolders(data_dir)\n",
    "    idx = 0 # for age dict\n",
    "\n",
    "    print(\"=\"*50)\n",
    "    print(\"Change Age Status\")\n",
    "\n",
    "    for folder in current_folders: #sorted folders list\n",
    "        invalid_path = os.path.join(data_dir, folder)\n",
    "        invalid_age = folder.split(\"Asian_\")[1]\n",
    "\n",
    "        if folder.split(\"_\")[0] in invalid_age_id.keys():\n",
    "            correct_age = str(list(invalid_age_id.values())[idx])\n",
    "            correct_path = invalid_path.replace(invalid_age, correct_age)\n",
    "\n",
    "            print(f\"{invalid_path.split('images/')[1]} is changing into {correct_path.split('images/')[1]}\")\n",
    "            shutil.move(invalid_path, correct_path)\n",
    "\n",
    "            idx += 1\n",
    "\n",
    "\n",
    "    print(\"Process Done\")\n",
    "\n",
    "\n",
    "# if __name__ == \"__main__\":\n",
    "#     data_dir= \"/opt/ml/input/data/train/images\"\n",
    "\n",
    "#     mask_status_invalid = [\"000020_female_Asian_50\", \"004418_male_Asian_20\", \"005227_male_Asian_22\"]\n",
    "#     mask_status_name = [\"incorrect_mask.jpg\", \"normal.jpg\", \"temp.jpg\"]\n",
    "\n",
    "#     gender_status_invalid = [\"000225\", \"000664\", \"000767\", \"001498-1\", \"001509\", \"003113\", \"003223\", \"004281\", \n",
    "#     \"004432\", \"005223\", \"006359\", \"006360\",\"006361\", \"006362\", \"006363\", \"006364\", \"006424\"]\n",
    "\n",
    "#     age_status_invalid = {\"001009\" : 20, \"001064\": 20, \"001637\":20, \"001666\":20, \"001852\":20, \"004348\": 60}\n",
    "\n",
    "#     correct_mask_status(data_dir, mask_status_invalid, mask_status_name)\n",
    "#     correct_gender_status(data_dir, gender_status_invalid) \n",
    "#     correct_age_status(data_dir, age_status_invalid)"
   ]
  },
  {
   "cell_type": "markdown",
   "id": "b19f2113",
   "metadata": {},
   "source": [
    "## augmentation "
   ]
  },
  {
   "cell_type": "code",
   "execution_count": null,
   "id": "e76d8109",
   "metadata": {},
   "outputs": [],
   "source": [
    "train_folder = '/opt/ml/input/data/train/images'\n",
    "aug_path = '/opt/ml/input/data/train/augmentation'\n",
    "\n",
    "for subdir in os.listdir(train_folder):\n",
    "    # \".\"으로 시작하는 폴더면 건너뜀\n",
    "    if subdir.startswith(\".\"):\n",
    "        continue\n",
    "\n",
    "    # '_'기준으로 나누기\n",
    "    # splitby = subdir.split('_')\n",
    "\n",
    "    # 나이 60 이상인 것만 골라내기\n",
    "    # split_age = int(splitby[3])\n",
    "    # if split_age < 60:\n",
    "    #     continue \n",
    "    \n",
    "    subdir_path = os.path.join(train_folder, subdir)\n",
    "    \n",
    "    for file_name in os.listdir(subdir_path):\n",
    "        # '.'로 시작하지 않는 이미지에 대해서 탐색\n",
    "        if not file_name.startswith(\".\") and not file_name.startswith(\"mask\"):\n",
    "            image_path = os.path.join(subdir_path, file_name)\n",
    "            \n",
    "            img = Image.open(image_path)\n",
    "            img = transforms.Compose([\n",
    "                transforms.CenterCrop((256, 256)) # transform 기법\n",
    "            ])(img)\n",
    "            \n",
    "            # 새로 이미지를 저장할 폴더\n",
    "            new_dir = '1' + subdir\n",
    "            new_folder = os.path.join(aug_path, new_dir)\n",
    "\n",
    "            if os.path.isdir(new_folder) == False:\n",
    "                os.mkdir(new_folder)\n",
    "            \n",
    "            img.save(os.path.join(new_folder, file_name))\n",
    "            # print(os.path.join(new_folder, file_name))\n",
    "\n",
    "\n",
    "    "
   ]
  },
  {
   "cell_type": "code",
   "execution_count": null,
   "id": "207e1842",
   "metadata": {},
   "outputs": [],
   "source": [
    "train_folder = '/opt/ml/input/data/train/images'\n",
    "aug_path = '/opt/ml/input/data/train/augmentation'\n",
    "\n",
    "for subdir in os.listdir(train_folder):\n",
    "    # \".\"으로 시작하는 폴더면 건너뜀\n",
    "    if subdir.startswith(\".\"):\n",
    "        continue\n",
    "\n",
    "    # '_'기준으로 나누기\n",
    "    splitby = subdir.split('_')\n",
    "\n",
    "    # 나이 60 이상인 것만 골라내기\n",
    "    split_age = int(splitby[3])\n",
    "    if split_age < 60:\n",
    "        continue \n",
    "    \n",
    "    subdir_path = os.path.join(train_folder, subdir)\n",
    "    \n",
    "    for file_name in os.listdir(subdir_path):\n",
    "        # '.'로 시작하지 않는 이미지에 대해서 탐색\n",
    "        if not file_name.startswith(\".\"):\n",
    "            image_path = os.path.join(subdir_path, file_name)\n",
    "            \n",
    "            img = Image.open(image_path)\n",
    "            img = transforms.Compose([\n",
    "                transforms.ColorJitter(0.5, 0.5, 0.5, 0.5), # transform 기법\n",
    "            ])(img)\n",
    "            \n",
    "            # 새로 이미지를 저장할 폴더\n",
    "            new_dir = '2' + subdir\n",
    "            new_folder = os.path.join(aug_path, new_dir)\n",
    "\n",
    "            if os.path.isdir(new_folder) == False:\n",
    "                os.mkdir(new_folder)\n",
    "            \n",
    "            img.save(os.path.join(new_folder, file_name))\n",
    "            # print(os.path.join(new_folder, file_name))"
   ]
  },
  {
   "cell_type": "code",
   "execution_count": null,
   "id": "76126446",
   "metadata": {},
   "outputs": [],
   "source": [
    "train_folder = '/opt/ml/input/data/train/images'\n",
    "aug_path = '/opt/ml/input/data/train/augmentation'\n",
    "\n",
    "for subdir in os.listdir(train_folder):\n",
    "    # \".\"으로 시작하는 폴더면 건너뜀\n",
    "    if subdir.startswith(\".\"):\n",
    "        continue\n",
    "\n",
    "    # '_'기준으로 나누기\n",
    "    splitby = subdir.split('_')\n",
    "\n",
    "    # 나이 60 이상인 것만 골라내기\n",
    "    split_age = int(splitby[3])\n",
    "    if split_age < 60:\n",
    "        continue \n",
    "    \n",
    "    subdir_path = os.path.join(train_folder, subdir)\n",
    "    \n",
    "    for file_name in os.listdir(subdir_path):\n",
    "        # '.'로 시작하지 않는 이미지에 대해서 탐색\n",
    "        if not file_name.startswith(\".\"):\n",
    "            image_path = os.path.join(subdir_path, file_name)\n",
    "            \n",
    "            img = Image.open(image_path)\n",
    "            img = transforms.Compose([\n",
    "                transforms.RandomRotation(10) # transform 기법\n",
    "            ])(img)\n",
    "            \n",
    "            # 새로 이미지를 저장할 폴더\n",
    "            new_dir = '3' + subdir\n",
    "            new_folder = os.path.join(aug_path, new_dir)\n",
    "\n",
    "            if os.path.isdir(new_folder) == False:\n",
    "                os.mkdir(new_folder)\n",
    "            \n",
    "            img.save(os.path.join(new_folder, file_name))\n",
    "            # print(os.path.join(new_folder, file_name))"
   ]
  },
  {
   "cell_type": "markdown",
   "id": "3d150880",
   "metadata": {},
   "source": [
    "## train_image.csv 만들기"
   ]
  },
  {
   "cell_type": "code",
   "execution_count": null,
   "id": "7f60d022",
   "metadata": {},
   "outputs": [],
   "source": [
    "# 이미지 별 클래스를 계산해주기 위한 dictionary\n",
    "class_number = {\n",
    "    'mask':0, 'inco':6, 'norm':12,\n",
    "    'male':0, 'female':3 \n",
    "    }\n",
    "\n",
    "# 이미지 폴더들이 담긴 폴더 train_folder\n",
    "train_folder = '/opt/ml/input/data/train/images'\n",
    "aug_path = '/opt/ml/input/data/train/augmentation'\n",
    "\n",
    "# augmentation 이미지도 탐색하기 위해 리스트로 담아줌\n",
    "image_lst = [train_folder, aug_path]\n",
    "\n",
    "# csv로 만들어주기 위한 리스트 image_names\n",
    "image_names = []\n",
    "for folder in image_lst:\n",
    "    # if folder == aug_path:\n",
    "    #     continue\n",
    "    # train_folder의 폴더들 subdir별로 이미지 탐색 \n",
    "    for subdir in os.listdir(folder):\n",
    "        # \".\"으로 시작하는 폴더면 건너뜀\n",
    "        if subdir.startswith(\".\"):\n",
    "            continue\n",
    "        \n",
    "        # subdir을 \"_\"로 split해서 클래스 이름별로 나누기\n",
    "        name_class = subdir.split('_')\n",
    "        # 이미지가 담긴 폴더의 클래스 label 먼저 계산(성별, 나이)\n",
    "        folder_class = 0\n",
    "        # 성별에 따른 숫자 더해줌\n",
    "        folder_class += class_number[name_class[1]]\n",
    "        \n",
    "        # 나이는 30, 60 기준으로 나눠서 더해줌\n",
    "        age = int(name_class[3]) \n",
    "        if age < 30:\n",
    "            folder_class += 0\n",
    "        elif 30 <= age < 59:\n",
    "            folder_class += 1\n",
    "        elif 59 <= age:\n",
    "            folder_class += 2\n",
    "        \n",
    "        subdir_path = os.path.join(folder, subdir)\n",
    "\n",
    "        # subdir 안의 이미지 탐색해서 이미지 별 클래스 계산\n",
    "        for file_name in os.listdir(subdir_path):\n",
    "            # '.'로 시작하지 않는 이미지에 대해서 탐색\n",
    "            if not file_name.startswith(\".\"):\n",
    "                # image_class는 이미지 별 클래스 (마스크 여부에 따라 folder_class에 더해줌)\n",
    "                image_class = folder_class + class_number[file_name[:4]]\n",
    "                image_path = os.path.join(subdir_path, file_name)\n",
    "                # image_names에 정보 담기\n",
    "                image_names.append([name_class[0], name_class[1] , name_class[2], age, image_path, image_class])\n",
    "\n",
    "print(os.listdir(aug_path)[:3])\n",
    "print(image_names[:5])"
   ]
  },
  {
   "cell_type": "code",
   "execution_count": null,
   "id": "e5b4d53e",
   "metadata": {},
   "outputs": [],
   "source": [
    "import csv\n",
    "\n",
    "# image_names를 id 순으로 정렬\n",
    "image_names.sort()\n",
    "# 분류 기준 더해주기\n",
    "image_names = [['id','gender','race','age','path', 'class']] + image_names\n",
    "\n",
    "# train_image.csv 파일로 만들어서 저장\n",
    "with open('train_image.csv', 'w') as file:\n",
    "    write = csv.writer(file)\n",
    "    write.writerows(image_names)\n"
   ]
  },
  {
   "cell_type": "markdown",
   "id": "1ba5a5f7",
   "metadata": {},
   "source": [
    "## train_image 분석"
   ]
  },
  {
   "cell_type": "code",
   "execution_count": null,
   "id": "61cef1de",
   "metadata": {},
   "outputs": [],
   "source": [
    "csv_path = \"/opt/ml/code/train_image.csv\"\n",
    "train_image = pd.read_csv(csv_path)\n",
    "# 무작위로 5개 뽑아보기\n",
    "print(train_image.sample(5))"
   ]
  },
  {
   "cell_type": "code",
   "execution_count": 4,
   "id": "f945a564",
   "metadata": {},
   "outputs": [
    {
     "name": "stdout",
     "output_type": "stream",
     "text": [
      "<class 'pandas.core.frame.DataFrame'>\n",
      "RangeIndex: 27002 entries, 0 to 27001\n",
      "Data columns (total 6 columns):\n",
      " #   Column  Non-Null Count  Dtype \n",
      "---  ------  --------------  ----- \n",
      " 0   id      27002 non-null  object\n",
      " 1   gender  27002 non-null  object\n",
      " 2   race    27002 non-null  object\n",
      " 3   age     27002 non-null  int64 \n",
      " 4   path    27002 non-null  object\n",
      " 5   class   27002 non-null  int64 \n",
      "dtypes: int64(2), object(4)\n",
      "memory usage: 1.2+ MB\n",
      "None\n"
     ]
    }
   ],
   "source": [
    "print(train_image.info())"
   ]
  },
  {
   "cell_type": "code",
   "execution_count": null,
   "id": "3d73a4f3",
   "metadata": {},
   "outputs": [],
   "source": [
    "print(train_image.describe(include='all'))"
   ]
  },
  {
   "cell_type": "code",
   "execution_count": 6,
   "id": "c96197a9",
   "metadata": {},
   "outputs": [
    {
     "data": {
      "image/png": "[encoded data removed]",
      "text/plain": [
       "<Figure size 432x288 with 1 Axes>"
      ]
     },
     "metadata": {
      "needs_background": "light"
     },
     "output_type": "display_data"
    },
    {
     "data": {
      "image/png": "[encoded data removed]",
      "text/plain": [
       "<Figure size 432x288 with 1 Axes>"
      ]
     },
     "metadata": {
      "needs_background": "light"
     },
     "output_type": "display_data"
    },
    {
     "data": {
      "image/png": "[encoded data removed]",
      "text/plain": [
       "<Figure size 432x288 with 1 Axes>"
      ]
     },
     "metadata": {
      "needs_background": "light"
     },
     "output_type": "display_data"
    }
   ],
   "source": [
    "import seaborn as sns\n",
    "import matplotlib.pyplot as plt\n",
    "\n",
    "# class 별 분포 살펴보기\n",
    "sns.histplot(x='class',data=train_image,)\n",
    "plt.show()\n",
    "\n",
    "sns.histplot(x='age', data=train_image,)\n",
    "plt.show()\n",
    "\n",
    "sns.histplot(x='gender', data=train_image,)\n",
    "plt.show()"
   ]
  },
  {
   "cell_type": "markdown",
   "id": "7a0e25cb",
   "metadata": {},
   "source": [
    "#### 픽셀 별 평균, 표준편차 "
   ]
  },
  {
   "cell_type": "code",
   "execution_count": 186,
   "id": "58226e06",
   "metadata": {},
   "outputs": [
    {
     "name": "stdout",
     "output_type": "stream",
     "text": [
      "0.55912894 0.5197964 0.49549162\n",
      "0.23119642 0.23979054 0.24312052\n"
     ]
    }
   ],
   "source": [
    "import numpy as np\n",
    "\n",
    "train_image = pd.read_csv(csv_path)\n",
    "\n",
    "meanRGB = []\n",
    "stdRGB = []\n",
    "\n",
    "for p in list(train_image[\"path\"]):\n",
    "    i = Image.open(p)\n",
    "    i = transforms.Compose([ToTensor()])(i)\n",
    "    meanRGB.append(np.mean(i.numpy(), axis=(1,2)))\n",
    "    stdRGB.append(np.std(i.numpy(), axis=(1,2)))\n",
    "\n",
    "meanR = np.mean([m[0] for m in meanRGB])\n",
    "meanG = np.mean([m[1] for m in meanRGB])\n",
    "meanB = np.mean([m[2] for m in meanRGB])\n",
    "\n",
    "stdR = np.mean([s[0] for s in stdRGB])\n",
    "stdG = np.mean([s[1] for s in stdRGB])\n",
    "stdB = np.mean([s[2] for s in stdRGB])\n",
    "\n",
    "print(meanR, meanG, meanB)\n",
    "print(stdR, stdG, stdB)"
   ]
  },
  {
   "cell_type": "markdown",
   "id": "a86f2475",
   "metadata": {},
   "source": [
    "## Train Dataset"
   ]
  },
  {
   "cell_type": "code",
   "execution_count": 4,
   "id": "4978e96e",
   "metadata": {},
   "outputs": [],
   "source": [
    "from PIL import Image\n",
    "\n",
    "class CustomDataset(Dataset):\n",
    "    def __init__(self, path, transform=None):\n",
    "        train_image = pd.read_csv(path) # dataframe으로 만들어주기\n",
    "        self.image_paths = train_image[\"path\"]\n",
    "        self.image_labels = train_image[\"class\"]\n",
    "        self.transform = transform\n",
    "\n",
    "    def __len__(self):\n",
    "        return len(self.image_paths)\n",
    "\n",
    "    def __getitem__(self, idx):\n",
    "        label = None\n",
    "        img = Image.open(self.image_paths[idx])\n",
    "        label = torch.tensor(self.image_labels[idx])\n",
    "        if self.transform is not None:\n",
    "            img_transform = self.transform(img)\n",
    "        return img_transform, label\n",
    "        \n"
   ]
  },
  {
   "cell_type": "code",
   "execution_count": 5,
   "id": "c182eff7",
   "metadata": {},
   "outputs": [],
   "source": [
    "t_dataset = CustomDataset(csv_path, transform=transforms.Compose([\n",
    "    transforms.RandomHorizontalFlip(),\n",
    "    Resize((384,384)),\n",
    "    ToTensor(), \n",
    "    Normalize([0.5591, 0.5197, 0.4954],[0.2312, 0.2397, 0.2431]),\n",
    "    ]))\n",
    "v_dataset = CustomDataset(csv_path, transform=transforms.Compose([\n",
    "    Resize((384,384)),\n",
    "    ToTensor(), \n",
    "    Normalize([0.5591, 0.5197, 0.4954],[0.2312, 0.2397, 0.2431])\n",
    "    ]))"
   ]
  },
  {
   "cell_type": "code",
   "execution_count": null,
   "id": "d4b592cf",
   "metadata": {},
   "outputs": [],
   "source": [
    "next(iter(t_dataset))"
   ]
  },
  {
   "cell_type": "code",
   "execution_count": null,
   "id": "6bf2f8d0",
   "metadata": {},
   "outputs": [],
   "source": [
    "next(iter(v_dataset))"
   ]
  },
  {
   "cell_type": "markdown",
   "id": "a843c968",
   "metadata": {},
   "source": [
    "#### train, validation dataset 나누기"
   ]
  },
  {
   "cell_type": "code",
   "execution_count": 6,
   "id": "878f1755",
   "metadata": {},
   "outputs": [
    {
     "name": "stdout",
     "output_type": "stream",
     "text": [
      "22113 4889\n"
     ]
    }
   ],
   "source": [
    "import random\n",
    "from torch.utils.data import Subset\n",
    "\n",
    "# dataset 두 개로 나누기\n",
    "def split_index(length, val_ratio):\n",
    "    n_val = int(length * val_ratio)\n",
    "    val_indices = set(random.choices(range(length), k=n_val))\n",
    "    train_indices = set(range((length))) - set(val_indices)\n",
    "    return val_indices, train_indices\n",
    "\n",
    "val_indices, train_indices = split_index(len(t_dataset), val_ratio=0.2)\n",
    "train_dataset = Subset(t_dataset, list(train_indices))\n",
    "val_dataset = Subset(v_dataset, list(val_indices))\n",
    "\n",
    "print(len(train_dataset), len(val_dataset))"
   ]
  },
  {
   "cell_type": "code",
   "execution_count": null,
   "id": "ddb3097c",
   "metadata": {},
   "outputs": [],
   "source": [
    "next(iter(train_dataset))"
   ]
  },
  {
   "cell_type": "markdown",
   "id": "270c9904",
   "metadata": {},
   "source": [
    "## Dataloader"
   ]
  },
  {
   "cell_type": "code",
   "execution_count": 7,
   "id": "5968156c",
   "metadata": {},
   "outputs": [],
   "source": [
    "train_dataloader = DataLoader(train_dataset, batch_size=64, shuffle=True, num_workers=1)\n",
    "val_dataloader = DataLoader(val_dataset, batch_size=64, shuffle=False, num_workers=1)"
   ]
  },
  {
   "cell_type": "code",
   "execution_count": null,
   "id": "9e63be53",
   "metadata": {},
   "outputs": [],
   "source": [
    "next(iter(val_dataloader))"
   ]
  },
  {
   "cell_type": "markdown",
   "id": "b3b29e2a",
   "metadata": {},
   "source": [
    "## Model"
   ]
  },
  {
   "cell_type": "code",
   "execution_count": 8,
   "id": "5de79139",
   "metadata": {},
   "outputs": [
    {
     "name": "stdout",
     "output_type": "stream",
     "text": [
      "device:[cuda:0].\n"
     ]
    }
   ],
   "source": [
    "device = torch.device('cuda:0' if torch.cuda.is_available() else 'cpu')\n",
    "print (\"device:[%s].\"%(device))"
   ]
  },
  {
   "cell_type": "code",
   "execution_count": 9,
   "id": "13743c05",
   "metadata": {},
   "outputs": [
    {
     "name": "stdout",
     "output_type": "stream",
     "text": [
      "Loaded pretrained weights for efficientnet-b0\n"
     ]
    }
   ],
   "source": [
    "from torchvision import models\n",
    "from efficientnet_pytorch import EfficientNet\n",
    "\n",
    "model_resnet = models.resnet18(pretrained=True)\n",
    "num_ftrs = model_resnet.fc.in_features\n",
    "model_resnet.fc = nn.Linear(num_ftrs, 18)\n",
    "\n",
    "model_efficient = EfficientNet.from_pretrained('efficientnet-b0', num_classes=18)\n"
   ]
  },
  {
   "cell_type": "code",
   "execution_count": null,
   "id": "8ba6a1a5",
   "metadata": {},
   "outputs": [],
   "source": [
    "model_efficient"
   ]
  },
  {
   "cell_type": "code",
   "execution_count": null,
   "id": "af859eb7",
   "metadata": {},
   "outputs": [],
   "source": [
    "model_resnet"
   ]
  },
  {
   "cell_type": "code",
   "execution_count": 12,
   "id": "4cb31980",
   "metadata": {},
   "outputs": [
    {
     "name": "stdout",
     "output_type": "stream",
     "text": [
      "네트워크 출력 채널 개수 (예측 class type 개수) 18\n"
     ]
    }
   ],
   "source": [
    "import math\n",
    "\n",
    "torch.nn.init.xavier_uniform_(model_resnet.fc.weight)\n",
    "stdv = 1. / math.sqrt(model_resnet.fc.weight.size(1))\n",
    "model_resnet.fc.bias.data.uniform_(-stdv, stdv)\n",
    "print(\"네트워크 출력 채널 개수 (예측 class type 개수)\", model_resnet.fc.weight.shape[0])\n"
   ]
  },
  {
   "cell_type": "markdown",
   "id": "58e25e9f",
   "metadata": {},
   "source": [
    "## Loss"
   ]
  },
  {
   "cell_type": "code",
   "execution_count": 16,
   "id": "c943e293",
   "metadata": {},
   "outputs": [],
   "source": [
    "import torch\n",
    "import torch.nn as nn\n",
    "import torch.nn.functional as F\n",
    "\n",
    "\n",
    "# https://discuss.pytorch.org/t/is-this-a-correct-implementation-for-focal-loss-in-pytorch/43327/8\n",
    "class FocalLoss(nn.Module):\n",
    "    def __init__(self, weight=None,\n",
    "                 gamma=2., reduction='mean'):\n",
    "        nn.Module.__init__(self)\n",
    "        self.weight = weight\n",
    "        self.gamma = gamma\n",
    "        self.reduction = reduction\n",
    "\n",
    "    def forward(self, input_tensor, target_tensor):\n",
    "        log_prob = F.log_softmax(input_tensor, dim=-1)\n",
    "        prob = torch.exp(log_prob)\n",
    "        return F.nll_loss(\n",
    "            ((1 - prob) ** self.gamma) * log_prob,\n",
    "            target_tensor,\n",
    "            weight=self.weight,\n",
    "            reduction=self.reduction\n",
    "        )\n",
    "\n",
    "\n",
    "class LabelSmoothingLoss(nn.Module):\n",
    "    def __init__(self, classes=3, smoothing=0.0, dim=-1):\n",
    "        super(LabelSmoothingLoss, self).__init__()\n",
    "        self.confidence = 1.0 - smoothing\n",
    "        self.smoothing = smoothing\n",
    "        self.cls = classes\n",
    "        self.dim = dim\n",
    "\n",
    "    def forward(self, pred, target):\n",
    "        pred = pred.log_softmax(dim=self.dim)\n",
    "        with torch.no_grad():\n",
    "            true_dist = torch.zeros_like(pred)\n",
    "            true_dist.fill_(self.smoothing / (self.cls - 1))\n",
    "            true_dist.scatter_(1, target.data.unsqueeze(1), self.confidence)\n",
    "        return torch.mean(torch.sum(-true_dist * pred, dim=self.dim))\n",
    "\n",
    "\n",
    "# https://gist.github.com/SuperShinyEyes/dcc68a08ff8b615442e3bc6a9b55a354\n",
    "class F1Loss(nn.Module):\n",
    "    def __init__(self, classes=18, epsilon=1e-7):\n",
    "        super().__init__()\n",
    "        self.classes = classes\n",
    "        self.epsilon = epsilon\n",
    "    def forward(self, y_pred, y_true):\n",
    "        assert y_pred.ndim == 2\n",
    "        assert y_true.ndim == 1\n",
    "        y_true = F.one_hot(y_true, self.classes).to(torch.float32)\n",
    "        y_pred = F.softmax(y_pred, dim=1)\n",
    "\n",
    "        tp = (y_true * y_pred).sum(dim=0).to(torch.float32)\n",
    "        tn = ((1 - y_true) * (1 - y_pred)).sum(dim=0).to(torch.float32)\n",
    "        fp = ((1 - y_true) * y_pred).sum(dim=0).to(torch.float32)\n",
    "        fn = (y_true * (1 - y_pred)).sum(dim=0).to(torch.float32)\n",
    "\n",
    "        precision = tp / (tp + fp + self.epsilon)\n",
    "        recall = tp / (tp + fn + self.epsilon)\n",
    "\n",
    "        f1 = 2 * (precision * recall) / (precision + recall + self.epsilon)\n",
    "        f1 = f1.clamp(min=self.epsilon, max=1 - self.epsilon)\n",
    "        return 1 - f1.mean()"
   ]
  },
  {
   "cell_type": "markdown",
   "id": "eebba4d1",
   "metadata": {},
   "source": [
    "## Train "
   ]
  },
  {
   "cell_type": "code",
   "execution_count": 16,
   "id": "535b434c",
   "metadata": {},
   "outputs": [],
   "source": [
    "torch.cuda.empty_cache()"
   ]
  },
  {
   "cell_type": "code",
   "execution_count": null,
   "id": "4effd27b",
   "metadata": {},
   "outputs": [],
   "source": [
    "torch.cuda.memory_stats()"
   ]
  },
  {
   "cell_type": "code",
   "execution_count": 17,
   "id": "f9ba3591",
   "metadata": {},
   "outputs": [],
   "source": [
    "my_model = model_efficient\n",
    "my_model.to(device) \n",
    "\n",
    "LEARNING_RATE = 0.0001\n",
    "\n",
    "criterion = nn.CrossEntropyLoss() \n",
    "optimizer = torch.optim.AdamW(my_model.parameters(), lr=LEARNING_RATE) \n"
   ]
  },
  {
   "cell_type": "markdown",
   "id": "cae46c91",
   "metadata": {},
   "source": [
    "### CutMix"
   ]
  },
  {
   "cell_type": "code",
   "execution_count": 17,
   "id": "ecae07dc",
   "metadata": {},
   "outputs": [],
   "source": [
    "def cutmix(images, labels):  \n",
    "    X = images\n",
    "    y = labels     \n",
    "    rand_index = torch.randperm(X.size()[0]).to(device)\n",
    "    target_a = y\n",
    "    target_b = y[rand_index]            \n",
    "    bbx1, bby1, bbx2, bby2 = 50, 148, 192, 290\n",
    "    X[:, :, bbx1:bbx2, bby1:bby2] = X[rand_index, :, bbx1:bbx2, bby1:bby2]\n",
    "    lam = 1 - ((bbx2 - bbx1) * (bby2 - bby1) / (X.size()[-1] * X.size()[-2]))\n",
    "    outputs = my_model(X)\n",
    "    loss = criterion(outputs, target_a) * lam + criterion(outputs, target_b) * (1. - lam)\n",
    "    return outputs, loss\n"
   ]
  },
  {
   "cell_type": "code",
   "execution_count": null,
   "id": "b420823f",
   "metadata": {},
   "outputs": [],
   "source": [
    "import numpy as np\n",
    "\n",
    "loader_type = {\n",
    "    \"train\": train_dataloader,\n",
    "    \"test\": val_dataloader\n",
    "}\n",
    "\n",
    "NUM_EPOCH = 20\n",
    "my_model.to(device)\n",
    "best_test_acc = 0\n",
    "best_test_loss = 9999.\n",
    "patience = 0\n",
    "\n",
    "for epoch in range(NUM_EPOCH):\n",
    "    \n",
    "    for mode in [\"train\", \"test\"]:\n",
    "        running_loss = 0\n",
    "        running_acc = 0\n",
    "        \n",
    "        if mode == 'train':\n",
    "            my_model.train()\n",
    "        elif mode == 'test':\n",
    "            my_model.eval()\n",
    "        \n",
    "        for idx, (images, labels) in enumerate(loader_type[mode]):\n",
    "            images = images.to(device)\n",
    "            labels = labels.to(device)\n",
    "            \n",
    "            optimizer.zero_grad()\n",
    "            \n",
    "            with torch.set_grad_enabled(mode == 'train'):\n",
    "                # if np.random.random() > 0.7 : # cutmix 실행 확률\n",
    "                #     logits, loss = cutmix(images, labels)\n",
    "\n",
    "                # else:    \n",
    "                #     logits = my_model(images)\n",
    "                #     loss = criterion(logits, labels)\n",
    "                \n",
    "                logits = my_model(images)\n",
    "                loss = criterion(logits, labels)\n",
    "                _, preds = torch.max(logits, 1)\n",
    "                \n",
    "                if mode == 'train':\n",
    "                    loss.backward()\n",
    "                    optimizer.step()\n",
    "            \n",
    "            running_loss += loss.item() * images.size(0)\n",
    "            running_acc += torch.sum(preds == labels.data)\n",
    "        \n",
    "        epoch_loss = running_loss / len(loader_type[mode].dataset)\n",
    "        epoch_acc = running_acc / len(loader_type[mode].dataset)\n",
    "        \n",
    "        print(f'epoch: {epoch+1}, {mode}-데이터 셋 Loss: {epoch_loss:.3f}, acc: {epoch_acc:.3f}')\n",
    "        if mode == 'test' and best_test_acc < epoch_acc:\n",
    "              best_test_acc = epoch_acc\n",
    "        if mode == 'test' and best_test_loss > epoch_loss:\n",
    "              best_test_loss = epoch_loss\n",
    "        elif mode == 'test' and best_test_loss < epoch_loss:\n",
    "            patience += 1\n",
    "    \n",
    "    if patience == 4:\n",
    "        print('finished by early stopping!!')\n",
    "        break\n",
    "        \n",
    "print(\"training end!!\")\n",
    "print(f\"best acc: {best_test_acc}, best loss: {best_test_loss}\")\n",
    "    "
   ]
  },
  {
   "cell_type": "markdown",
   "id": "209dd3ef",
   "metadata": {},
   "source": [
    "## Test Dataset & Dataloader"
   ]
  },
  {
   "cell_type": "code",
   "execution_count": 21,
   "id": "7d5aed55",
   "metadata": {},
   "outputs": [],
   "source": [
    "class TestDataset(Dataset):\n",
    "    def __init__(self, img_paths, transform):\n",
    "        self.img_paths = img_paths\n",
    "        self.transform = transform\n",
    "\n",
    "    def __getitem__(self, index):\n",
    "        image = Image.open(self.img_paths[index])\n",
    "\n",
    "        if self.transform:\n",
    "            image = self.transform(image)\n",
    "        return image\n",
    "\n",
    "    def __len__(self):\n",
    "        return len(self.img_paths)"
   ]
  },
  {
   "cell_type": "code",
   "execution_count": 22,
   "id": "81733001",
   "metadata": {},
   "outputs": [],
   "source": [
    "test_dir = '/opt/ml/input/data/eval'\n",
    "\n",
    "submission = pd.read_csv(os.path.join(test_dir, 'info.csv'))\n",
    "image_dir = os.path.join(test_dir, 'images')\n",
    "\n",
    "image_paths = [os.path.join(image_dir, img_id) for img_id in submission.ImageID]\n",
    "\n",
    "test_dataset = TestDataset(image_paths, transform=transforms.Compose([\n",
    "    Resize((384, 384)),\n",
    "    ToTensor(), \n",
    "    Normalize([0.5591, 0.5197, 0.4954],[0.2312, 0.2397, 0.2431])\n",
    "    ]))\n",
    "test_loader = DataLoader(test_dataset,shuffle=False)\n"
   ]
  },
  {
   "cell_type": "markdown",
   "id": "f46dc99e",
   "metadata": {},
   "source": [
    "## Test"
   ]
  },
  {
   "cell_type": "code",
   "execution_count": 23,
   "id": "6c932e60",
   "metadata": {},
   "outputs": [
    {
     "name": "stdout",
     "output_type": "stream",
     "text": [
      "test inference is done!\n"
     ]
    }
   ],
   "source": [
    "my_model.eval()\n",
    "\n",
    "all_predictions = []\n",
    "for images in test_loader:\n",
    "    with torch.no_grad():\n",
    "        images = images.to(device)\n",
    "        pred = my_model(images)\n",
    "        pred = pred.argmax(dim=-1)\n",
    "        all_predictions.extend(pred.cpu().numpy())\n",
    "submission['ans'] = all_predictions\n",
    "\n",
    "submission.to_csv(os.path.join(test_dir, 'submission32.csv'), index=False)\n",
    "print('test inference is done!')"
   ]
  }
 ],
 "metadata": {
  "kernelspec": {
   "display_name": "Python 3 (ipykernel)",
   "language": "python",
   "name": "python3"
  },
  "language_info": {
   "codemirror_mode": {
    "name": "ipython",
    "version": 3
   },
   "file_extension": ".py",
   "mimetype": "text/x-python",
   "name": "python",
   "nbconvert_exporter": "python",
   "pygments_lexer": "ipython3",
   "version": "3.9.7"
  }
 },
 "nbformat": 4,
 "nbformat_minor": 5
}
