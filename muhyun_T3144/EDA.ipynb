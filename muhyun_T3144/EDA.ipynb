{
 "cells": [
  {
   "cell_type": "code",
   "execution_count": 2,
   "id": "cubic-scoop",
   "metadata": {},
   "outputs": [],
   "source": [
    "import os\n",
    "import random\n",
    "import pandas as pd\n",
    "from PIL import Image\n",
    "\n",
    "import torch\n",
    "import torch.nn as nn\n",
    "import torch.nn.functional as F\n",
    "import matplotlib.pyplot as plt\n",
    "import matplotlib.image as img\n",
    "\n",
    "from torch.utils.data import Dataset, DataLoader\n",
    "\n",
    "from torchvision import transforms\n",
    "from torchvision.transforms import Resize, ToTensor, Normalize"
   ]
  },
  {
   "cell_type": "code",
   "execution_count": 3,
   "id": "4d6f796b-6709-483b-aa65-ec5f8b7e03c6",
   "metadata": {},
   "outputs": [],
   "source": [
    "TRAIN_DIR = '/opt/ml/input/data/train/images'\n",
    "TEST_DIR = '/opt/ml/input/data/eval/images'"
   ]
  },
  {
   "cell_type": "code",
   "execution_count": 7,
   "id": "acknowledged-easter",
   "metadata": {
    "tags": []
   },
   "outputs": [
    {
     "name": "stdout",
     "output_type": "stream",
     "text": [
      "5400\n",
      "25201\n"
     ]
    }
   ],
   "source": [
    "print(len(os.listdir(TRAIN_DIR)))\n",
    "print(len(os.listdir(TEST_DIR)))"
   ]
  },
  {
   "cell_type": "code",
   "execution_count": 63,
   "id": "5b7bbd7b-732a-4d84-ba40-b2d3cd6b9132",
   "metadata": {},
   "outputs": [],
   "source": [
    "def path_generator(path_lists):\n",
    "    image_path_list = []\n",
    "    \n",
    "    for path_list in path_lists:\n",
    "        images = [f for f in os.listdir(path_list) if not f.startswith('.')]\n",
    "        for image in images:\n",
    "            image_path_list.append(os.path.join(path_list, image))\n",
    "    \n",
    "    return image_path_list"
   ]
  },
  {
   "cell_type": "code",
   "execution_count": 64,
   "id": "82efce3a-1174-4a03-b0e8-0e57648c922d",
   "metadata": {
    "tags": []
   },
   "outputs": [
    {
     "data": {
      "text/plain": [
       "['/opt/ml/input/data/train/images/000001_female_Asian_45',\n",
       " '/opt/ml/input/data/train/images/000002_female_Asian_52',\n",
       " '/opt/ml/input/data/train/images/000004_male_Asian_54',\n",
       " '/opt/ml/input/data/train/images/000005_female_Asian_58',\n",
       " '/opt/ml/input/data/train/images/000006_female_Asian_59',\n",
       " '/opt/ml/input/data/train/images/000007_female_Asian_58',\n",
       " '/opt/ml/input/data/train/images/000008_female_Asian_58',\n",
       " '/opt/ml/input/data/train/images/000009_female_Asian_56',\n",
       " '/opt/ml/input/data/train/images/000010_female_Asian_58',\n",
       " '/opt/ml/input/data/train/images/000012_male_Asian_57']"
      ]
     },
     "execution_count": 64,
     "metadata": {},
     "output_type": "execute_result"
    }
   ],
   "source": [
    "image_folder_list = [f'{TRAIN_DIR}/' + f for f in os.listdir(TRAIN_DIR) if not f.startswith('.')]\n",
    "sorted(image_folder_list)[:10]"
   ]
  },
  {
   "cell_type": "code",
   "execution_count": 60,
   "id": "00c59b1e-d25a-41d0-b380-9b9f6f91ad8a",
   "metadata": {},
   "outputs": [],
   "source": [
    "def label_generator(path_name):\n",
    "    label = 0\n",
    "    info, mask_type = path_name.split('/')[-2:]\n",
    "    idx, gender, race, age = info.split('_')\n",
    "    \n",
    "    if 'incorrect' in mask_type:\n",
    "        label += 6\n",
    "    elif 'normal' in mask_type:\n",
    "        label += 12\n",
    "    \n",
    "    if gender == 'female':\n",
    "        label += 3\n",
    "    \n",
    "    if 30 <= int(age) < 60:\n",
    "        label += 1\n",
    "    elif int(age) >= 60:\n",
    "        label += 2\n",
    "    \n",
    "    return label\n",
    "    "
   ]
  },
  {
   "cell_type": "code",
   "execution_count": 65,
   "id": "713db339-bb5a-4192-889d-0accae8c808e",
   "metadata": {
    "tags": []
   },
   "outputs": [
    {
     "data": {
      "text/plain": [
       "['/opt/ml/input/data/train/images/006621_male_Asian_19/mask2.jpeg',\n",
       " '/opt/ml/input/data/train/images/006621_male_Asian_19/incorrect_mask.jpeg',\n",
       " '/opt/ml/input/data/train/images/006621_male_Asian_19/mask3.jpeg',\n",
       " '/opt/ml/input/data/train/images/006621_male_Asian_19/mask4.jpeg',\n",
       " '/opt/ml/input/data/train/images/006621_male_Asian_19/normal.jpeg',\n",
       " '/opt/ml/input/data/train/images/006621_male_Asian_19/mask5.jpeg',\n",
       " '/opt/ml/input/data/train/images/006621_male_Asian_19/mask1.jpeg',\n",
       " '/opt/ml/input/data/train/images/004283_male_Asian_60/normal.jpg',\n",
       " '/opt/ml/input/data/train/images/004283_male_Asian_60/mask3.jpg',\n",
       " '/opt/ml/input/data/train/images/004283_male_Asian_60/mask1.jpg']"
      ]
     },
     "execution_count": 65,
     "metadata": {},
     "output_type": "execute_result"
    }
   ],
   "source": [
    "# 전체 train_image 경로 리스트 반영 \n",
    "full_image_path = path_generator(image_folder_list)\n",
    "full_image_path[:10]"
   ]
  },
  {
   "cell_type": "code",
   "execution_count": 66,
   "id": "7e6d1259-9aae-4405-acea-dc38552fd65f",
   "metadata": {
    "tags": []
   },
   "outputs": [
    {
     "data": {
      "text/html": [
       "<div>\n",
       "<style scoped>\n",
       "    .dataframe tbody tr th:only-of-type {\n",
       "        vertical-align: middle;\n",
       "    }\n",
       "\n",
       "    .dataframe tbody tr th {\n",
       "        vertical-align: top;\n",
       "    }\n",
       "\n",
       "    .dataframe thead th {\n",
       "        text-align: right;\n",
       "    }\n",
       "</style>\n",
       "<table border=\"1\" class=\"dataframe\">\n",
       "  <thead>\n",
       "    <tr style=\"text-align: right;\">\n",
       "      <th></th>\n",
       "      <th>image_path</th>\n",
       "      <th>label</th>\n",
       "    </tr>\n",
       "  </thead>\n",
       "  <tbody>\n",
       "    <tr>\n",
       "      <th>0</th>\n",
       "      <td>/opt/ml/input/data/train/images/006621_male_As...</td>\n",
       "      <td>0</td>\n",
       "    </tr>\n",
       "    <tr>\n",
       "      <th>1</th>\n",
       "      <td>/opt/ml/input/data/train/images/006621_male_As...</td>\n",
       "      <td>6</td>\n",
       "    </tr>\n",
       "    <tr>\n",
       "      <th>2</th>\n",
       "      <td>/opt/ml/input/data/train/images/006621_male_As...</td>\n",
       "      <td>0</td>\n",
       "    </tr>\n",
       "    <tr>\n",
       "      <th>3</th>\n",
       "      <td>/opt/ml/input/data/train/images/006621_male_As...</td>\n",
       "      <td>0</td>\n",
       "    </tr>\n",
       "    <tr>\n",
       "      <th>4</th>\n",
       "      <td>/opt/ml/input/data/train/images/006621_male_As...</td>\n",
       "      <td>12</td>\n",
       "    </tr>\n",
       "    <tr>\n",
       "      <th>5</th>\n",
       "      <td>/opt/ml/input/data/train/images/006621_male_As...</td>\n",
       "      <td>0</td>\n",
       "    </tr>\n",
       "    <tr>\n",
       "      <th>6</th>\n",
       "      <td>/opt/ml/input/data/train/images/006621_male_As...</td>\n",
       "      <td>0</td>\n",
       "    </tr>\n",
       "    <tr>\n",
       "      <th>7</th>\n",
       "      <td>/opt/ml/input/data/train/images/004283_male_As...</td>\n",
       "      <td>14</td>\n",
       "    </tr>\n",
       "    <tr>\n",
       "      <th>8</th>\n",
       "      <td>/opt/ml/input/data/train/images/004283_male_As...</td>\n",
       "      <td>2</td>\n",
       "    </tr>\n",
       "    <tr>\n",
       "      <th>9</th>\n",
       "      <td>/opt/ml/input/data/train/images/004283_male_As...</td>\n",
       "      <td>2</td>\n",
       "    </tr>\n",
       "  </tbody>\n",
       "</table>\n",
       "</div>"
      ],
      "text/plain": [
       "                                          image_path  label\n",
       "0  /opt/ml/input/data/train/images/006621_male_As...      0\n",
       "1  /opt/ml/input/data/train/images/006621_male_As...      6\n",
       "2  /opt/ml/input/data/train/images/006621_male_As...      0\n",
       "3  /opt/ml/input/data/train/images/006621_male_As...      0\n",
       "4  /opt/ml/input/data/train/images/006621_male_As...     12\n",
       "5  /opt/ml/input/data/train/images/006621_male_As...      0\n",
       "6  /opt/ml/input/data/train/images/006621_male_As...      0\n",
       "7  /opt/ml/input/data/train/images/004283_male_As...     14\n",
       "8  /opt/ml/input/data/train/images/004283_male_As...      2\n",
       "9  /opt/ml/input/data/train/images/004283_male_As...      2"
      ]
     },
     "execution_count": 66,
     "metadata": {},
     "output_type": "execute_result"
    }
   ],
   "source": [
    "train_table = pd.DataFrame(full_image_path, columns = ['image_path'])\n",
    "train_table['label'] = train_table['image_path'].map(lambda x : label_generator(x))\n",
    "train_table[:10]"
   ]
  },
  {
   "cell_type": "code",
   "execution_count": 68,
   "id": "874ceaec-a617-40d4-9ea6-584996ade932",
   "metadata": {},
   "outputs": [],
   "source": [
    "train_table.to_csv('./train_data.csv', index=False)"
   ]
  },
  {
   "cell_type": "code",
   "execution_count": 21,
   "id": "bd6de4d1-fd28-4cd2-9a99-9ef1e55dd19a",
   "metadata": {
    "tags": []
   },
   "outputs": [
    {
     "ename": "NameError",
     "evalue": "name 'BASE' is not defined",
     "output_type": "error",
     "traceback": [
      "\u001b[0;31m---------------------------------------------------------------------------\u001b[0m",
      "\u001b[0;31mNameError\u001b[0m                                 Traceback (most recent call last)",
      "\u001b[0;32m<ipython-input-21-cb3e055002d9>\u001b[0m in \u001b[0;36m<module>\u001b[0;34m\u001b[0m\n\u001b[1;32m      1\u001b[0m \u001b[0mnum\u001b[0m \u001b[0;34m=\u001b[0m \u001b[0mrandom\u001b[0m\u001b[0;34m.\u001b[0m\u001b[0mrandint\u001b[0m\u001b[0;34m(\u001b[0m\u001b[0;36m0\u001b[0m\u001b[0;34m,\u001b[0m \u001b[0;36m2700\u001b[0m\u001b[0;34m)\u001b[0m\u001b[0;34m\u001b[0m\u001b[0;34m\u001b[0m\u001b[0m\n\u001b[1;32m      2\u001b[0m \u001b[0mimage_file\u001b[0m \u001b[0;34m=\u001b[0m \u001b[0mimage_folder_list\u001b[0m\u001b[0;34m[\u001b[0m\u001b[0mnum\u001b[0m\u001b[0;34m]\u001b[0m\u001b[0;34m\u001b[0m\u001b[0;34m\u001b[0m\u001b[0m\n\u001b[0;32m----> 3\u001b[0;31m \u001b[0mimages\u001b[0m \u001b[0;34m=\u001b[0m \u001b[0;34m[\u001b[0m\u001b[0mf\u001b[0m \u001b[0;32mfor\u001b[0m \u001b[0mf\u001b[0m \u001b[0;32min\u001b[0m \u001b[0mos\u001b[0m\u001b[0;34m.\u001b[0m\u001b[0mlistdir\u001b[0m\u001b[0;34m(\u001b[0m\u001b[0;34mf'{BASE}/{image_file}'\u001b[0m\u001b[0;34m)\u001b[0m \u001b[0;32mif\u001b[0m \u001b[0;32mnot\u001b[0m \u001b[0mf\u001b[0m\u001b[0;34m.\u001b[0m\u001b[0mstartswith\u001b[0m\u001b[0;34m(\u001b[0m\u001b[0;34m'.'\u001b[0m\u001b[0;34m)\u001b[0m\u001b[0;34m]\u001b[0m\u001b[0;34m\u001b[0m\u001b[0;34m\u001b[0m\u001b[0m\n\u001b[0m\u001b[1;32m      4\u001b[0m \u001b[0;34m\u001b[0m\u001b[0m\n\u001b[1;32m      5\u001b[0m \u001b[0;34m\u001b[0m\u001b[0m\n",
      "\u001b[0;31mNameError\u001b[0m: name 'BASE' is not defined"
     ]
    }
   ],
   "source": [
    "num = random.randint(0, 2700)\n",
    "image_file = image_folder_list[num]\n",
    "images = [f for f in os.listdir(f'{BASE}/{image_file}') if not f.startswith('.')]\n",
    "\n",
    "\n",
    "for i in range(len(images)):\n",
    "    plt.figure(figsize=(10,10))\n",
    "\n",
    "    plt.axis('off')\n",
    "    plt.imshow(img.imread(f'{BASE}/{image_file}/{images[i]}'))\n",
    "   "
   ]
  },
  {
   "cell_type": "code",
   "execution_count": 67,
   "id": "951c682f-852b-4bc3-ae57-c75c602ebf71",
   "metadata": {},
   "outputs": [
    {
     "name": "stdout",
     "output_type": "stream",
     "text": [
      "/opt/ml/code\n"
     ]
    }
   ],
   "source": [
    "!pwd"
   ]
  },
  {
   "cell_type": "code",
   "execution_count": null,
   "id": "99cae7a9-4831-432c-9ee7-a22a886edf95",
   "metadata": {},
   "outputs": [],
   "source": []
  },
  {
   "cell_type": "code",
   "execution_count": null,
   "id": "0a43f005-85e4-45eb-92e3-0f22fac3cc69",
   "metadata": {},
   "outputs": [],
   "source": []
  }
 ],
 "metadata": {
  "kernelspec": {
   "display_name": "Python 3 (ipykernel)",
   "language": "python",
   "name": "python3"
  },
  "language_info": {
   "codemirror_mode": {
    "name": "ipython",
    "version": 3
   },
   "file_extension": ".py",
   "mimetype": "text/x-python",
   "name": "python",
   "nbconvert_exporter": "python",
   "pygments_lexer": "ipython3",
   "version": "3.8.5"
  }
 },
 "nbformat": 4,
 "nbformat_minor": 5
}
