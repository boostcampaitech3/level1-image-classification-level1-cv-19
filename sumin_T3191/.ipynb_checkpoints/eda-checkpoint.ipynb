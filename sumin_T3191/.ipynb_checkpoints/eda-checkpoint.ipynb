{
 "cells": [
  {
   "cell_type": "markdown",
   "id": "aa8f9739-1437-4e41-aa07-66ebf88ff223",
   "metadata": {},
   "source": [
    "# 0. Libarary 불러오기 및 경로설정"
   ]
  },
  {
   "cell_type": "code",
   "execution_count": 1,
   "id": "5a82b6d4-40a6-4152-88ac-2b3e27b351d6",
   "metadata": {},
   "outputs": [],
   "source": [
    "import os\n",
    "from glob import glob\n",
    "import pandas as pd\n",
    "from PIL import Image\n",
    "import numpy as np\n",
    "from tqdm import tqdm\n",
    "import matplotlib.pyplot as plt\n",
    "\n",
    "import torch\n",
    "import torch.nn as nn\n",
    "import torch.nn.functional as F\n",
    "import torch.optim as optim\n",
    "from torch.utils.data import Dataset, DataLoader\n",
    "\n",
    "from torchvision import transforms\n",
    "from torchvision.transforms import Resize, ToTensor, Normalize"
   ]
  },
  {
   "cell_type": "markdown",
   "id": "c1f5f1b7-1f04-49ac-91c4-d7d4066871e1",
   "metadata": {},
   "source": [
    "## GPU 설정"
   ]
  },
  {
   "cell_type": "code",
   "execution_count": 2,
   "id": "6e5f7ccd-9279-4b1b-97ca-66c33f398783",
   "metadata": {},
   "outputs": [
    {
     "data": {
      "text/plain": [
       "'cuda'"
      ]
     },
     "execution_count": 2,
     "metadata": {},
     "output_type": "execute_result"
    }
   ],
   "source": [
    "device = 'cuda' if torch.cuda.is_available() else 'cpu'\n",
    "device"
   ]
  },
  {
   "cell_type": "markdown",
   "id": "9ef0fc36-85e0-4a7e-b4a9-150a07b6fa19",
   "metadata": {},
   "source": [
    "---"
   ]
  },
  {
   "cell_type": "markdown",
   "id": "0b84190d-13bd-4d5f-a6e8-e1b16acb7d26",
   "metadata": {},
   "source": [
    "# Dataset 구조 파악"
   ]
  },
  {
   "cell_type": "markdown",
   "id": "ea3a6f1e-6072-4d13-91a0-02d9b6b432fe",
   "metadata": {},
   "source": [
    "```bash\n",
    "├── 📁code\n",
    "│   ├── requirements.txt\n",
    "│   ├── sample_submission.ipynb\n",
    "│   └── practice.ipynb (개인 파일)\n",
    "│\n",
    "└── 📁input\n",
    "    └── 📁data\n",
    "         ├── 📁train\n",
    "         │   ├── 📁images ( 2700 folder * image 7 개 = 18900 개 image)\n",
    "         │   │    ├── 📁000001_female_Asian_45\n",
    "         │   │    ├── ... (total folder 갯수 : 2700 개 (숨김 파일 제외) -> 2700 명)\n",
    "         │   │    └── 📁006959_male_Asian_19\n",
    "         │   │         │  * 폴더 내의 파일 내용은 sample 5 개 수기로 확인해본 결과 + 파일 확장자 (jpg, jpeg, png 존재)\n",
    "         │   │         │\n",
    "         │   │         ├── incorrect_mask.jpg (부정확한 마스크 (코 미착용))\n",
    "         │   │         ├── mask1.jpg (KF 94 두꺼운 흰 마스크)\n",
    "         │   │         ├── mask2.jpg (파란 마스크)\n",
    "         │   │         ├── mask3.jpg (얇은 덴탈 흰 마스크)\n",
    "         │   │         ├── mask4.jpg (분홍색 마스크)\n",
    "         │   │         ├── mask5.jpg (검은색 마스크, 줄무늬 마스크 등 독특한 마스크)\n",
    "         │   │         └── normal.jpg (mask 미착용)\n",
    "         │   │\n",
    "         │   └── train.csv\n",
    "         │\n",
    "         │\n",
    "         └── 📁eval\n",
    "             ├── 📁images\n",
    "             │    ├── fffde6a740sdakfnn41nf.jpg\n",
    "             │    ├── ...\n",
    "             │    │   * total image 갯수 : 12600 개 (숨김 파일 제외) (인 당 사진의 갯수가 7개 이므로 1800 명)\n",
    "             │    └── ff44e2a7775s2akfn41nc.jpg\n",
    "             │\n",
    "             └── info.csv\n",
    "\n",
    "``` "
   ]
  }
 ],
 "metadata": {
  "kernelspec": {
   "display_name": "Python 3 (ipykernel)",
   "language": "python",
   "name": "python3"
  },
  "language_info": {
   "codemirror_mode": {
    "name": "ipython",
    "version": 3
   },
   "file_extension": ".py",
   "mimetype": "text/x-python",
   "name": "python",
   "nbconvert_exporter": "python",
   "pygments_lexer": "ipython3",
   "version": "3.9.7"
  }
 },
 "nbformat": 4,
 "nbformat_minor": 5
}
