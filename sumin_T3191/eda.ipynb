{
 "cells": [
  {
   "cell_type": "markdown",
   "id": "aa8f9739-1437-4e41-aa07-66ebf88ff223",
   "metadata": {},
   "source": [
    "# 0. Libarary 불러오기 및 경로설정"
   ]
  },
  {
   "cell_type": "code",
   "execution_count": 1,
   "id": "5a82b6d4-40a6-4152-88ac-2b3e27b351d6",
   "metadata": {},
   "outputs": [],
   "source": [
    "import os\n",
    "from glob import glob\n",
    "import pandas as pd\n",
    "from PIL import Image\n",
    "import numpy as np\n",
    "from tqdm import tqdm\n",
    "import matplotlib.pyplot as plt\n",
    "\n",
    "import torch\n",
    "import torch.nn as nn\n",
    "import torch.nn.functional as F\n",
    "import torch.optim as optim\n",
    "from torch.utils.data import Dataset, DataLoader\n",
    "\n",
    "from torchvision import transforms\n",
    "from torchvision.transforms import Resize, ToTensor, Normalize"
   ]
  },
  {
   "cell_type": "markdown",
   "id": "c1f5f1b7-1f04-49ac-91c4-d7d4066871e1",
   "metadata": {},
   "source": [
    "## GPU 설정"
   ]
  },
  {
   "cell_type": "code",
   "execution_count": 2,
   "id": "6e5f7ccd-9279-4b1b-97ca-66c33f398783",
   "metadata": {},
   "outputs": [
    {
     "data": {
      "text/plain": [
       "'cuda'"
      ]
     },
     "execution_count": 2,
     "metadata": {},
     "output_type": "execute_result"
    }
   ],
   "source": [
    "device = 'cuda' if torch.cuda.is_available() else 'cpu'\n",
    "device"
   ]
  },
  {
   "cell_type": "markdown",
   "id": "9ef0fc36-85e0-4a7e-b4a9-150a07b6fa19",
   "metadata": {},
   "source": [
    "---"
   ]
  },
  {
   "cell_type": "markdown",
   "id": "0b84190d-13bd-4d5f-a6e8-e1b16acb7d26",
   "metadata": {},
   "source": [
    "# Dataset 구조 파악"
   ]
  },
  {
   "cell_type": "markdown",
   "id": "ea3a6f1e-6072-4d13-91a0-02d9b6b432fe",
   "metadata": {},
   "source": [
    "```bash\n",
    "├── 📁code\n",
    "│   ├── requirements.txt\n",
    "│   ├── sample_submission.ipynb\n",
    "│   └── practice.ipynb (개인 파일)\n",
    "│\n",
    "└── 📁input\n",
    "    └── 📁data\n",
    "         ├── 📁train\n",
    "         │   ├── 📁images ( 2700 folder * image 7 개 = 18900 개 image)\n",
    "         │   │    ├── 📁000001_female_Asian_45\n",
    "         │   │    ├── ... (total folder 갯수 : 2700 개 (숨김 파일 제외) -> 2700 명)\n",
    "         │   │    └── 📁006959_male_Asian_19\n",
    "         │   │         │  * 폴더 내의 파일 내용은 sample 5 개 수기로 확인해본 결과 + 파일 확장자 (jpg, jpeg, png 존재)\n",
    "         │   │         │\n",
    "         │   │         ├── incorrect_mask.jpg (부정확한 마스크 (코 미착용))\n",
    "         │   │         ├── mask1.jpg (KF 94 두꺼운 흰 마스크)\n",
    "         │   │         ├── mask2.jpg (파란 마스크)\n",
    "         │   │         ├── mask3.jpg (얇은 덴탈 흰 마스크)\n",
    "         │   │         ├── mask4.jpg (분홍색 마스크)\n",
    "         │   │         ├── mask5.jpg (검은색 마스크, 줄무늬 마스크 등 독특한 마스크)\n",
    "         │   │         └── normal.jpg (mask 미착용)\n",
    "         │   │\n",
    "         │   └── train.csv\n",
    "         │\n",
    "         │\n",
    "         └── 📁eval\n",
    "             ├── 📁images\n",
    "             │    ├── fffde6a740sdakfnn41nf.jpg\n",
    "             │    ├── ...\n",
    "             │    │   * total image 갯수 : 12600 개 (숨김 파일 제외) (인 당 사진의 갯수가 7개 이므로 1800 명)\n",
    "             │    └── ff44e2a7775s2akfn41nc.jpg\n",
    "             │\n",
    "             └── info.csv\n",
    "\n",
    "``` "
   ]
  },
  {
   "cell_type": "code",
   "execution_count": 3,
   "id": "6acfa1d7-f844-4085-98a3-d868be95fbe8",
   "metadata": {},
   "outputs": [
    {
     "data": {
      "text/plain": [
       "'/opt/ml/code'"
      ]
     },
     "execution_count": 3,
     "metadata": {},
     "output_type": "execute_result"
    }
   ],
   "source": [
    "os.getcwd()"
   ]
  },
  {
   "cell_type": "code",
   "execution_count": 4,
   "id": "513b573d-fd71-497e-bf9b-be093c353dcd",
   "metadata": {},
   "outputs": [
    {
     "name": "stdout",
     "output_type": "stream",
     "text": [
      "train 전체 파일 수 :  5400\n",
      "train 숨김 파일 제외한 파일 수 :  2700\n"
     ]
    }
   ],
   "source": [
    "print('train 전체 파일 수 : ', len( os.listdir('../input/data/train/images/')))\n",
    "print('train 숨김 파일 제외한 파일 수 : ', len([path for path in os.listdir('../input/data/train/images/') if '.' not in path]))"
   ]
  },
  {
   "cell_type": "code",
   "execution_count": 5,
   "id": "ba5bded1-8d5d-426a-8123-e0d45296e731",
   "metadata": {},
   "outputs": [
    {
     "name": "stdout",
     "output_type": "stream",
     "text": [
      "eval 전체 파일 수 :  25201\n",
      "eval 숨김 파일 제외한 파일 수 :  12600\n"
     ]
    }
   ],
   "source": [
    "print('eval 전체 파일 수 : ', len(os.listdir('../input/data/eval/images')))\n",
    "print('eval 숨김 파일 제외한 파일 수 : ', len([path for path in os.listdir('../input/data/eval/images') if '.' not in path[:-4]]))"
   ]
  },
  {
   "cell_type": "code",
   "execution_count": 6,
   "id": "2e0e6f6e-6f14-469d-a2b1-69e819ef6dda",
   "metadata": {},
   "outputs": [],
   "source": [
    "TRAIN_DIR = '/opt/ml/input/data/train' \n",
    "TEST_DIR = '/opt/ml/input/data/eval'"
   ]
  },
  {
   "cell_type": "markdown",
   "id": "e144abac-80cb-460c-9f8b-2d68cb0f53fb",
   "metadata": {},
   "source": [
    " "
   ]
  },
  {
   "cell_type": "markdown",
   "id": "45dba7d7-686f-4691-9b89-5a028027b025",
   "metadata": {},
   "source": [
    "---"
   ]
  },
  {
   "cell_type": "markdown",
   "id": "a55dddd4-2f5a-4e95-823d-4fb6f4f8a77a",
   "metadata": {},
   "source": [
    "## EDA"
   ]
  },
  {
   "cell_type": "markdown",
   "id": "012b363a-f57d-43f9-8348-e747c1c02260",
   "metadata": {},
   "source": [
    "### Train CSV 파일 확인\n",
    "- Column : id / gender / race / age / path\n",
    "    - Gender : female / male\n",
    "    - Race : Asian\n",
    "    - Age : 18 - 60\n",
    "    - Path : {id}\\_{gender}\\_{race}\\_{age}\n",
    "- row : 2700 개 (directory path 를 의미하며, 각 directory 마다 7개의 사진이 들어있다)\n",
    "- 결측치 갯수 : 0 개"
   ]
  },
  {
   "cell_type": "code",
   "execution_count": 7,
   "id": "8f4e7a91-c827-497b-bfb4-1411faf32ccf",
   "metadata": {},
   "outputs": [],
   "source": [
    "df_train = pd.read_csv(TRAIN_DIR + '/train.csv')"
   ]
  },
  {
   "cell_type": "code",
   "execution_count": 8,
   "id": "7c57dd2c-cb33-461c-b87e-4a781f288dfa",
   "metadata": {},
   "outputs": [
    {
     "data": {
      "text/html": [
       "<div>\n",
       "<style scoped>\n",
       "    .dataframe tbody tr th:only-of-type {\n",
       "        vertical-align: middle;\n",
       "    }\n",
       "\n",
       "    .dataframe tbody tr th {\n",
       "        vertical-align: top;\n",
       "    }\n",
       "\n",
       "    .dataframe thead th {\n",
       "        text-align: right;\n",
       "    }\n",
       "</style>\n",
       "<table border=\"1\" class=\"dataframe\">\n",
       "  <thead>\n",
       "    <tr style=\"text-align: right;\">\n",
       "      <th></th>\n",
       "      <th>id</th>\n",
       "      <th>gender</th>\n",
       "      <th>race</th>\n",
       "      <th>age</th>\n",
       "      <th>path</th>\n",
       "    </tr>\n",
       "  </thead>\n",
       "  <tbody>\n",
       "    <tr>\n",
       "      <th>0</th>\n",
       "      <td>000001</td>\n",
       "      <td>female</td>\n",
       "      <td>Asian</td>\n",
       "      <td>45</td>\n",
       "      <td>000001_female_Asian_45</td>\n",
       "    </tr>\n",
       "    <tr>\n",
       "      <th>1</th>\n",
       "      <td>000002</td>\n",
       "      <td>female</td>\n",
       "      <td>Asian</td>\n",
       "      <td>52</td>\n",
       "      <td>000002_female_Asian_52</td>\n",
       "    </tr>\n",
       "    <tr>\n",
       "      <th>2</th>\n",
       "      <td>000004</td>\n",
       "      <td>male</td>\n",
       "      <td>Asian</td>\n",
       "      <td>54</td>\n",
       "      <td>000004_male_Asian_54</td>\n",
       "    </tr>\n",
       "    <tr>\n",
       "      <th>3</th>\n",
       "      <td>000005</td>\n",
       "      <td>female</td>\n",
       "      <td>Asian</td>\n",
       "      <td>58</td>\n",
       "      <td>000005_female_Asian_58</td>\n",
       "    </tr>\n",
       "    <tr>\n",
       "      <th>4</th>\n",
       "      <td>000006</td>\n",
       "      <td>female</td>\n",
       "      <td>Asian</td>\n",
       "      <td>59</td>\n",
       "      <td>000006_female_Asian_59</td>\n",
       "    </tr>\n",
       "  </tbody>\n",
       "</table>\n",
       "</div>"
      ],
      "text/plain": [
       "       id  gender   race  age                    path\n",
       "0  000001  female  Asian   45  000001_female_Asian_45\n",
       "1  000002  female  Asian   52  000002_female_Asian_52\n",
       "2  000004    male  Asian   54    000004_male_Asian_54\n",
       "3  000005  female  Asian   58  000005_female_Asian_58\n",
       "4  000006  female  Asian   59  000006_female_Asian_59"
      ]
     },
     "execution_count": 8,
     "metadata": {},
     "output_type": "execute_result"
    }
   ],
   "source": [
    "df_train.head()"
   ]
  },
  {
   "cell_type": "code",
   "execution_count": 9,
   "id": "9dfc115d-37d1-4b67-8780-02cded1cd4dd",
   "metadata": {},
   "outputs": [
    {
     "name": "stdout",
     "output_type": "stream",
     "text": [
      "Row 갯수 :  2700\n",
      "결측치 갯수 :  0\n",
      "gender Feature :  ['female' 'male']\n",
      "race Feature :  ['Asian']\n",
      "Age :  [18 19 20 21 22 23 24 25 26 27 28 29 30 31 32 33 34 35 36 37 38 39 40 41\n",
      " 42 43 44 45 46 47 48 49 50 51 52 53 54 55 56 57 58 59 60]\n"
     ]
    }
   ],
   "source": [
    "print('Row 갯수 : ', len(df_train))\n",
    "print('결측치 갯수 : ', df_train.isnull().sum().sum())\n",
    "print('gender Feature : ', df_train['gender'].unique())\n",
    "print('race Feature : ', df_train['race'].unique())\n",
    "print('Age : ', df_train['age'].sort_values().unique())"
   ]
  },
  {
   "cell_type": "markdown",
   "id": "832f3c0e-f1a9-462f-ae1f-cd3a45f35687",
   "metadata": {},
   "source": [
    " "
   ]
  },
  {
   "cell_type": "markdown",
   "id": "24d636fb-6b47-4bcd-99e1-8adb509c4e59",
   "metadata": {},
   "source": [
    "### Image 파일 확인\n",
    "- 학습 image 갯수 : 18900 개 (2700 개 directroy * 7 개의 사진)\n",
    "- Image shape : (512, 384, 3)"
   ]
  },
  {
   "cell_type": "code",
   "execution_count": 10,
   "id": "87b417b5-f2ba-4072-a7fd-7f263445e851",
   "metadata": {},
   "outputs": [],
   "source": [
    "train_paths = glob(TRAIN_DIR + '/images/*/*')"
   ]
  },
  {
   "cell_type": "code",
   "execution_count": 11,
   "id": "1c74f2f0-1a42-4388-8db5-96cb6af231a6",
   "metadata": {},
   "outputs": [
    {
     "data": {
      "text/plain": [
       "['/opt/ml/input/data/train/images/006259_female_Asian_20/mask5.jpg',\n",
       " '/opt/ml/input/data/train/images/006259_female_Asian_20/mask2.jpg',\n",
       " '/opt/ml/input/data/train/images/006259_female_Asian_20/mask4.jpg',\n",
       " '/opt/ml/input/data/train/images/006259_female_Asian_20/incorrect_mask.jpg',\n",
       " '/opt/ml/input/data/train/images/006259_female_Asian_20/mask1.jpg']"
      ]
     },
     "execution_count": 11,
     "metadata": {},
     "output_type": "execute_result"
    }
   ],
   "source": [
    "train_paths[:5]"
   ]
  },
  {
   "cell_type": "markdown",
   "id": "e747f846-f32d-4293-80fe-688dc31ccacf",
   "metadata": {},
   "source": [
    "- 2700 개 directroy * 7 개의 사진 = 18900"
   ]
  },
  {
   "cell_type": "code",
   "execution_count": 12,
   "id": "66999868-e738-45c8-9bf0-84264dc741e2",
   "metadata": {},
   "outputs": [
    {
     "data": {
      "text/plain": [
       "18900"
      ]
     },
     "execution_count": 12,
     "metadata": {},
     "output_type": "execute_result"
    }
   ],
   "source": [
    "len(train_paths)"
   ]
  },
  {
   "cell_type": "markdown",
   "id": "ca35c411-0edb-486a-9bf4-3c5e873f06b6",
   "metadata": {},
   "source": [
    "- 파일 확장자는 jpg, jpeg, png 가 존재"
   ]
  },
  {
   "cell_type": "code",
   "execution_count": 13,
   "id": "378a2934-1dcc-4d78-8349-fec6748ac59c",
   "metadata": {},
   "outputs": [
    {
     "data": {
      "text/plain": [
       "{'.jpg', '.png', 'jpeg'}"
      ]
     },
     "execution_count": 13,
     "metadata": {},
     "output_type": "execute_result"
    }
   ],
   "source": [
    "set([path[-4:] for path in train_paths])"
   ]
  },
  {
   "cell_type": "markdown",
   "id": "5551e8a8-4cee-4d2f-8f9e-75be819c2337",
   "metadata": {},
   "source": [
    "### Sample Image 확인"
   ]
  },
  {
   "cell_type": "code",
   "execution_count": 14,
   "id": "556e0ea2-bd1b-4372-b378-323a8f27f190",
   "metadata": {},
   "outputs": [
    {
     "data": {
      "image/png": "[encoded data removed]",
      "text/plain": [
       "<PIL.JpegImagePlugin.JpegImageFile image mode=RGB size=384x512 at 0x7F35E05209D0>"
      ]
     },
     "execution_count": 14,
     "metadata": {},
     "output_type": "execute_result"
    }
   ],
   "source": [
    "sample_image = Image.open(train_paths[0])\n",
    "sample_image"
   ]
  },
  {
   "cell_type": "markdown",
   "id": "a07451aa-de2c-4026-827f-b71d05c7905d",
   "metadata": {},
   "source": [
    "- image shape : (512, 384, 3)"
   ]
  },
  {
   "cell_type": "code",
   "execution_count": 15,
   "id": "0be805d0-b8e4-42ea-9063-488cb5f4df51",
   "metadata": {},
   "outputs": [
    {
     "data": {
      "text/plain": [
       "(512, 384, 3)"
      ]
     },
     "execution_count": 15,
     "metadata": {},
     "output_type": "execute_result"
    }
   ],
   "source": [
    "image_array = np.array(sample_image)\n",
    "image_array.shape"
   ]
  },
  {
   "cell_type": "markdown",
   "id": "56a1f2e7-2451-4367-91db-f3625c654034",
   "metadata": {},
   "source": [
    "### 모든 Image shape 동일 여부 확인"
   ]
  },
  {
   "cell_type": "code",
   "execution_count": 16,
   "id": "81fe4c91-55ab-4509-8d75-d4ad4edc2a18",
   "metadata": {},
   "outputs": [
    {
     "name": "stderr",
     "output_type": "stream",
     "text": [
      "100%|██████████| 18900/18900 [01:02<00:00, 303.92it/s]\n"
     ]
    }
   ],
   "source": [
    "widths = []\n",
    "heights = []\n",
    "\n",
    "for path in tqdm(train_paths):\n",
    "    image = Image.open(path)\n",
    "    image_array = np.array(image)\n",
    "    w, h, _ = image_array.shape\n",
    "    \n",
    "    widths.append(w)\n",
    "    heights.append(h)"
   ]
  },
  {
   "cell_type": "code",
   "execution_count": 17,
   "id": "3be5d0d7-afda-4cff-92b2-4f900b0f5a9f",
   "metadata": {},
   "outputs": [
    {
     "name": "stdout",
     "output_type": "stream",
     "text": [
      "Width :  (array([512]), array([18900]))\n",
      "Height :  (array([384]), array([18900]))\n"
     ]
    }
   ],
   "source": [
    "print('Width : ', np.unique(widths, return_counts=True))\n",
    "print('Height : ', np.unique(heights, return_counts=True))"
   ]
  },
  {
   "cell_type": "markdown",
   "id": "8f14dfc1-c55b-44ba-bf44-f89cdd3ab281",
   "metadata": {},
   "source": [
    "- 모든 이미지가 동일한 shape 인 (512, 384) 를 갖는 것 확인 가능"
   ]
  },
  {
   "cell_type": "code",
   "execution_count": 18,
   "id": "c6f73c52-7d83-4ccc-8389-229ef54fdfee",
   "metadata": {},
   "outputs": [
    {
     "data": {
      "image/png": "[encoded data removed]",
      "text/plain": [
       "<Figure size 1440x720 with 2 Axes>"
      ]
     },
     "metadata": {
      "needs_background": "light"
     },
     "output_type": "display_data"
    }
   ],
   "source": [
    "plt.figure(figsize=(20, 10))\n",
    "\n",
    "plt.subplot(121)\n",
    "plt.title('Widths')\n",
    "plt.hist(widths)\n",
    "\n",
    "plt.subplot(122)\n",
    "plt.title('Heights')\n",
    "plt.hist(heights)\n",
    "\n",
    "plt.show()"
   ]
  },
  {
   "cell_type": "markdown",
   "id": "2fb648c9-d701-44ed-9001-5dd5498facdd",
   "metadata": {},
   "source": [
    " "
   ]
  },
  {
   "cell_type": "markdown",
   "id": "d4e9e14e-170c-4a62-b727-2c509c1dc26f",
   "metadata": {},
   "source": [
    "---"
   ]
  },
  {
   "cell_type": "markdown",
   "id": "305a048c-ae99-42a4-8623-4009c3f19da3",
   "metadata": {},
   "source": [
    "# DataSet 만들기"
   ]
  },
  {
   "cell_type": "markdown",
   "id": "7fef7b1b-272c-4301-8210-0adacffc51e4",
   "metadata": {},
   "source": [
    "## Label (class) 가져오기"
   ]
  },
  {
   "cell_type": "code",
   "execution_count": 19,
   "id": "3029e693-52da-42e4-8957-12bb5347d196",
   "metadata": {},
   "outputs": [],
   "source": [
    "def classify_class(mask, gender, age):\n",
    "    '''\n",
    "        Mask, Gender, Age 를 입력 받아 class 를 return 하는 함수\n",
    "        class 는 0 - 17 으로 총 18 개의 class 존재\n",
    "    '''\n",
    "    \n",
    "    if mask[:4] == 'mask':   # Mask feature 가 'Wear' 인 경우 (mask = mask1, mask2, mask3, mask4, mask5)\n",
    "        if gender == 'male':   # Gender feature 가 'Male' 인 경우\n",
    "            if age < 30:   # Age feature 가 age < 30 인 경우\n",
    "                label = 0\n",
    "            elif age >= 30 and age < 60:   # Age feature 가 30 <= age < 60 인 경우\n",
    "                label = 1\n",
    "            else:   # Age feature 가 age > 60 인 경우\n",
    "                label = 2\n",
    "        else:   # Gender featrue 가 'Female' 인 경우\n",
    "            if age < 30:   # Age feature 가 age < 30 인 경우\n",
    "                label = 3\n",
    "            elif age >= 30 and age < 60:   # Age feature 가 30 <= age < 60 인 경우\n",
    "                label = 4\n",
    "            else:   # Age feature 가 age > 60 인 경우\n",
    "                label = 5\n",
    "    elif mask == 'incorrect_mask':   # Mask feature 가 'Incorrect' 인 경우 (mask = incorrect_mask)\n",
    "        if gender == 'male':   # Gender feature 가 'Male' 인 경우\n",
    "            if age < 30:   # Age feature 가 age < 30 인 경우\n",
    "                label = 6\n",
    "            elif age >= 30 and age < 60:   # Age feature 가 30 <= age < 60 인 경우\n",
    "                label = 7\n",
    "            else:   # Age feature 가 age > 60 인 경우\n",
    "                label = 8\n",
    "        else:   # Gender featrue 가 'Female' 인 경우\n",
    "            if age < 30:   # Age feature 가 age < 30 인 경우\n",
    "                label = 9\n",
    "            elif age >= 30 and age < 60:   # Age feature 가 30 <= age < 60 인 경우\n",
    "                label = 10\n",
    "            else:   # Age feature 가 age > 60 인 경우\n",
    "                label = 11\n",
    "    else:   # Mask feature 가 'Not Wear' 인 경우 (mask = normal)\n",
    "        if gender == 'male':   # Gender feature 가 'Male' 인 경우\n",
    "            if age < 30:   # Age feature 가 age < 30 인 경우\n",
    "                label = 12\n",
    "            elif age >= 30 and age < 60:   # Age feature 가 30 <= age < 60 인 경우\n",
    "                label = 13\n",
    "            else:   # Age feature 가 age > 60 인 경우\n",
    "                label = 14\n",
    "        else:   # Gender featrue 가 'Female' 인 경우\n",
    "            if age < 30:   # Age feature 가 age < 30 인 경우\n",
    "                label = 15\n",
    "            elif age >= 30 and age < 60:   # Age feature 가 30 <= age < 60 인 경우\n",
    "                label = 16\n",
    "            else:   # Age feature 가 age > 60 인 경우\n",
    "                label = 17\n",
    "    \n",
    "    return label"
   ]
  },
  {
   "cell_type": "code",
   "execution_count": 20,
   "id": "2b09bd0b-7ed1-4078-9768-66096b8913a6",
   "metadata": {},
   "outputs": [],
   "source": [
    "def get_label(path):\n",
    "    '''\n",
    "        path 를 입력으로 받아 label (class) 를 return 하는 함수\n",
    "        \n",
    "        : class 를 구분하는 기준으로는 Mask, Gender, Age 가 존재\n",
    "    '''\n",
    "    \n",
    "    _, gender, _, age = path.split('/')[-2].split('_')   # id_gender_race_age 를 '_' 로 split\n",
    "    mask = path.split('/')[-1].split('.')[0]   # mask5.jpg 와 같은 파일명에서 확장자를 제거\n",
    "    label = classify_class(mask, gender, int(age))   # classify_class 함수로 부터 label 을 반환\n",
    "    \n",
    "    return label"
   ]
  },
  {
   "cell_type": "code",
   "execution_count": 21,
   "id": "58c8a7d1-567e-4875-b09a-118a6b8eb883",
   "metadata": {},
   "outputs": [
    {
     "name": "stdout",
     "output_type": "stream",
     "text": [
      "path:  /opt/ml/input/data/train/images/003643_male_Asian_58/incorrect_mask.jpg\n",
      "label:  7\n",
      "---------------------------------------------------------------------------\n",
      "\n",
      "path:  /opt/ml/input/data/train/images/003643_male_Asian_58/mask1.jpg\n",
      "label:  1\n",
      "---------------------------------------------------------------------------\n",
      "\n",
      "path:  /opt/ml/input/data/train/images/003643_male_Asian_58/normal.jpg\n",
      "label:  13\n",
      "---------------------------------------------------------------------------\n",
      "\n",
      "path:  /opt/ml/input/data/train/images/003643_male_Asian_58/mask3.jpg\n",
      "label:  1\n",
      "---------------------------------------------------------------------------\n",
      "\n",
      "path:  /opt/ml/input/data/train/images/001233_male_Asian_25/mask5.jpg\n",
      "label:  0\n",
      "---------------------------------------------------------------------------\n",
      "\n"
     ]
    }
   ],
   "source": [
    "for path in train_paths[10:15]:\n",
    "    print('path: ', path)\n",
    "    print('label: ', get_label(path))\n",
    "    print('-------------------------' * 3)\n",
    "    print()"
   ]
  },
  {
   "cell_type": "markdown",
   "id": "0c946c91-00fc-4f15-9b05-ed78ff76dbb9",
   "metadata": {},
   "source": [
    "### Example"
   ]
  },
  {
   "cell_type": "code",
   "execution_count": 22,
   "id": "09b6a687-d2bb-47bb-8d88-5e7e8fbe639a",
   "metadata": {},
   "outputs": [
    {
     "data": {
      "text/plain": [
       "'/opt/ml/input/data/train/images/006259_female_Asian_20/mask5.jpg'"
      ]
     },
     "execution_count": 22,
     "metadata": {},
     "output_type": "execute_result"
    }
   ],
   "source": [
    "train_paths[0]"
   ]
  },
  {
   "cell_type": "code",
   "execution_count": 23,
   "id": "5955b92a-396c-492e-8f66-e7f898e0c7dd",
   "metadata": {},
   "outputs": [],
   "source": [
    "id_gender_race_age = train_paths[0].split('/')[-2]\n",
    "file_name = train_paths[0].split('/')[-1]"
   ]
  },
  {
   "cell_type": "code",
   "execution_count": 26,
   "id": "091ac4d7-e664-4a7d-bafe-f4c9a618f897",
   "metadata": {},
   "outputs": [
    {
     "data": {
      "text/plain": [
       "('006259_female_Asian_20', 'mask5.jpg')"
      ]
     },
     "execution_count": 26,
     "metadata": {},
     "output_type": "execute_result"
    }
   ],
   "source": [
    "id_gender_race_age, file_name"
   ]
  },
  {
   "cell_type": "code",
   "execution_count": 27,
   "id": "370bad5d-9029-4e8e-9106-3f2975936f78",
   "metadata": {},
   "outputs": [],
   "source": [
    "_, gender, _, age = id_gender_race_age.split('_')"
   ]
  },
  {
   "cell_type": "code",
   "execution_count": 28,
   "id": "aed18aa1-7cde-40ae-b311-f26c9d248991",
   "metadata": {},
   "outputs": [
    {
     "data": {
      "text/plain": [
       "('female', '20')"
      ]
     },
     "execution_count": 28,
     "metadata": {},
     "output_type": "execute_result"
    }
   ],
   "source": [
    "gender, age"
   ]
  },
  {
   "cell_type": "code",
   "execution_count": 29,
   "id": "b681b32b-534e-4f47-b334-a1753a519072",
   "metadata": {},
   "outputs": [
    {
     "data": {
      "text/plain": [
       "True"
      ]
     },
     "execution_count": 29,
     "metadata": {},
     "output_type": "execute_result"
    }
   ],
   "source": [
    "file_name.split('.')[0][:4] == 'mask'"
   ]
  },
  {
   "cell_type": "markdown",
   "id": "d3cd5d03-13e8-4d7a-af6d-c89aca4614c9",
   "metadata": {},
   "source": [
    " "
   ]
  },
  {
   "cell_type": "markdown",
   "id": "5c0106cf-74ac-49db-82ca-d61698396507",
   "metadata": {},
   "source": [
    "## Custom Dataset"
   ]
  },
  {
   "cell_type": "code",
   "execution_count": 31,
   "id": "9929a861-bab1-4077-bdc7-121dd57f2cad",
   "metadata": {},
   "outputs": [],
   "source": [
    "class CustomDataset(Dataset):\n",
    "    def __init__(self, img_paths, transform):\n",
    "        self.img_paths = img_paths\n",
    "        self.transform = transform\n",
    "\n",
    "    def __getitem__(self, index):\n",
    "        path = self.img_paths[index]\n",
    "        image = Image.open(path)\n",
    "\n",
    "        if self.transform:\n",
    "            image = self.transform(image)\n",
    "        \n",
    "        # get label\n",
    "        label = get_label(path)\n",
    "        \n",
    "        return image, label\n",
    "\n",
    "    def __len__(self):\n",
    "        return len(self.img_paths)"
   ]
  },
  {
   "cell_type": "markdown",
   "id": "9772edd5-13e2-4a03-a497-005e83e7bc65",
   "metadata": {},
   "source": [
    " "
   ]
  },
  {
   "cell_type": "markdown",
   "id": "8aa147e2-5a94-44fe-a005-4eb8df4e41a0",
   "metadata": {},
   "source": [
    "## DataLoader"
   ]
  },
  {
   "cell_type": "code",
   "execution_count": 32,
   "id": "da694dae-08de-4a17-80a6-381f4c59f060",
   "metadata": {},
   "outputs": [],
   "source": [
    "# batch_size 지정\n",
    "batch_size = 32\n",
    "\n",
    "# device cuda 설정\n",
    "kwargs = {'num_workers': 1, 'pin_memory': True}\n",
    "\n",
    "# train_loader\n",
    "train_loader = torch.utils.data.DataLoader(\n",
    "  CustomDataset(train_paths,\n",
    "         transforms.Compose([\n",
    "           transforms.RandomHorizontalFlip(),\n",
    "           transforms.ToTensor(),\n",
    "           ])),\n",
    "  batch_size=batch_size,\n",
    "  shuffle=True,\n",
    "  **kwargs\n",
    ")"
   ]
  },
  {
   "cell_type": "code",
   "execution_count": 33,
   "id": "f81c962d-94f4-4af9-a8c9-500235cc8ef9",
   "metadata": {},
   "outputs": [],
   "source": [
    "# images, labels에 첫번째 데이터 저장\n",
    "images, labels = next(iter(train_loader))"
   ]
  },
  {
   "cell_type": "code",
   "execution_count": 34,
   "id": "79ff95f9-f703-4c99-a935-9713b0bbb007",
   "metadata": {},
   "outputs": [
    {
     "data": {
      "text/plain": [
       "torch.Size([32, 3, 512, 384])"
      ]
     },
     "execution_count": 34,
     "metadata": {},
     "output_type": "execute_result"
    }
   ],
   "source": [
    "images.shape"
   ]
  },
  {
   "cell_type": "code",
   "execution_count": 35,
   "id": "0a433b30-3c0f-4a4f-9412-f464c6d76fef",
   "metadata": {},
   "outputs": [
    {
     "data": {
      "text/plain": [
       "torch.Size([32])"
      ]
     },
     "execution_count": 35,
     "metadata": {},
     "output_type": "execute_result"
    }
   ],
   "source": [
    "labels.shape"
   ]
  },
  {
   "cell_type": "markdown",
   "id": "426a01d9-d651-4f47-905a-37d5eac50391",
   "metadata": {},
   "source": [
    " "
   ]
  },
  {
   "cell_type": "markdown",
   "id": "4f51a81b-e81a-43cc-ba38-14511c26f5cb",
   "metadata": {},
   "source": [
    "---"
   ]
  },
  {
   "cell_type": "markdown",
   "id": "1a75c805-4b62-42d0-9909-15ef07c8b91d",
   "metadata": {},
   "source": [
    "# Model"
   ]
  },
  {
   "cell_type": "code",
   "execution_count": 36,
   "id": "afe88d92-cefb-4dd5-8f71-c1af4ad559c0",
   "metadata": {},
   "outputs": [],
   "source": [
    "class MyModel(nn.Module):\n",
    "    def __init__(self, num_classes: int = 18):\n",
    "        super(MyModel, self).__init__()\n",
    "        self.features = nn.Sequential(\n",
    "            nn.Conv2d(3, 64, kernel_size=11, stride=4, padding=2),\n",
    "            nn.BatchNorm2d(64),\n",
    "            nn.ReLU(inplace=True),\n",
    "        )\n",
    "        self.avgpool = nn.AdaptiveAvgPool2d((1, 1))\n",
    "        self.classifier = nn.Sequential(\n",
    "            nn.Dropout(),\n",
    "            nn.Linear(64, 32),\n",
    "            nn.ReLU(inplace=True),\n",
    "            nn.Linear(32, num_classes),\n",
    "        )\n",
    "\n",
    "    def forward(self, x: torch.Tensor) -> torch.Tensor:\n",
    "        x = self.features(x)\n",
    "        x = self.avgpool(x)\n",
    "        x = torch.flatten(x, 1)\n",
    "        x = self.classifier(x)\n",
    "        return x"
   ]
  },
  {
   "cell_type": "markdown",
   "id": "c39647f9-6c6c-4f3e-ad42-1e0815712f30",
   "metadata": {},
   "source": [
    "---"
   ]
  },
  {
   "cell_type": "markdown",
   "id": "b9b445e3-a63a-4f03-8ad3-7395e5ecee4f",
   "metadata": {},
   "source": [
    "# Training"
   ]
  },
  {
   "cell_type": "code",
   "execution_count": 37,
   "id": "f7fbd1e1-6a02-4ce6-a3ba-9cec1d9d49de",
   "metadata": {},
   "outputs": [
    {
     "data": {
      "text/plain": [
       "<torch._C.Generator at 0x7f35e8ffa070>"
      ]
     },
     "execution_count": 37,
     "metadata": {},
     "output_type": "execute_result"
    }
   ],
   "source": [
    "seed = 42\n",
    "\n",
    "torch.manual_seed(seed)"
   ]
  },
  {
   "cell_type": "code",
   "execution_count": 39,
   "id": "0c15b939-ec03-4c01-962f-3f6646cfd80c",
   "metadata": {},
   "outputs": [],
   "source": [
    "model = MyModel().to(device)\n",
    "\n",
    "optimizer = optim.Adam(model.parameters(), lr=0.001)\n",
    "criterion = nn.CrossEntropyLoss()"
   ]
  },
  {
   "cell_type": "code",
   "execution_count": null,
   "id": "92cbe84a-20c9-40a4-a51b-9a2bded2c340",
   "metadata": {},
   "outputs": [
    {
     "name": "stdout",
     "output_type": "stream",
     "text": [
      "Train_Epoch: 1 [0/18900 (0%)]\tLoss: 2.944119\n",
      "Train_Epoch: 1 [3200/18900 (17%)]\tLoss: 2.211838\n",
      "Train_Epoch: 1 [6400/18900 (34%)]\tLoss: 2.346644\n",
      "Train_Epoch: 1 [9600/18900 (51%)]\tLoss: 2.149448\n",
      "Train_Epoch: 1 [12800/18900 (68%)]\tLoss: 2.146132\n",
      "Train_Epoch: 1 [16000/18900 (85%)]\tLoss: 2.433481\n",
      "Train_Epoch: 2 [0/18900 (0%)]\tLoss: 2.422687\n",
      "Train_Epoch: 2 [3200/18900 (17%)]\tLoss: 2.357340\n",
      "Train_Epoch: 2 [6400/18900 (34%)]\tLoss: 2.043781\n",
      "Train_Epoch: 2 [9600/18900 (51%)]\tLoss: 2.180921\n",
      "Train_Epoch: 2 [12800/18900 (68%)]\tLoss: 2.090454\n",
      "Train_Epoch: 2 [16000/18900 (85%)]\tLoss: 2.032317\n",
      "Train_Epoch: 3 [0/18900 (0%)]\tLoss: 2.375171\n",
      "Train_Epoch: 3 [3200/18900 (17%)]\tLoss: 2.260056\n",
      "Train_Epoch: 3 [6400/18900 (34%)]\tLoss: 2.127870\n",
      "Train_Epoch: 3 [9600/18900 (51%)]\tLoss: 2.591984\n",
      "Train_Epoch: 3 [12800/18900 (68%)]\tLoss: 1.948342\n",
      "Train_Epoch: 3 [16000/18900 (85%)]\tLoss: 2.394518\n",
      "Train_Epoch: 4 [0/18900 (0%)]\tLoss: 2.001086\n",
      "Train_Epoch: 4 [3200/18900 (17%)]\tLoss: 2.190991\n",
      "Train_Epoch: 4 [6400/18900 (34%)]\tLoss: 2.048918\n",
      "Train_Epoch: 4 [9600/18900 (51%)]\tLoss: 2.198984\n",
      "Train_Epoch: 4 [12800/18900 (68%)]\tLoss: 2.256200\n",
      "Train_Epoch: 4 [16000/18900 (85%)]\tLoss: 2.598637\n",
      "Train_Epoch: 5 [0/18900 (0%)]\tLoss: 2.231911\n",
      "Train_Epoch: 5 [3200/18900 (17%)]\tLoss: 2.312460\n",
      "Train_Epoch: 5 [6400/18900 (34%)]\tLoss: 2.623405\n",
      "Train_Epoch: 5 [9600/18900 (51%)]\tLoss: 2.286797\n",
      "Train_Epoch: 5 [12800/18900 (68%)]\tLoss: 2.230738\n",
      "Train_Epoch: 5 [16000/18900 (85%)]\tLoss: 2.241492\n",
      "Train_Epoch: 6 [0/18900 (0%)]\tLoss: 2.074376\n",
      "Train_Epoch: 6 [3200/18900 (17%)]\tLoss: 2.106052\n",
      "Train_Epoch: 6 [6400/18900 (34%)]\tLoss: 2.140206\n",
      "Train_Epoch: 6 [9600/18900 (51%)]\tLoss: 1.867664\n",
      "Train_Epoch: 6 [12800/18900 (68%)]\tLoss: 2.081410\n",
      "Train_Epoch: 6 [16000/18900 (85%)]\tLoss: 2.508464\n",
      "Train_Epoch: 7 [0/18900 (0%)]\tLoss: 2.107404\n",
      "Train_Epoch: 7 [3200/18900 (17%)]\tLoss: 2.258612\n",
      "Train_Epoch: 7 [6400/18900 (34%)]\tLoss: 1.994620\n",
      "Train_Epoch: 7 [9600/18900 (51%)]\tLoss: 2.270352\n",
      "Train_Epoch: 7 [12800/18900 (68%)]\tLoss: 1.899132\n",
      "Train_Epoch: 7 [16000/18900 (85%)]\tLoss: 2.151539\n",
      "Train_Epoch: 8 [0/18900 (0%)]\tLoss: 2.171875\n",
      "Train_Epoch: 8 [3200/18900 (17%)]\tLoss: 2.178326\n",
      "Train_Epoch: 8 [6400/18900 (34%)]\tLoss: 2.308539\n",
      "Train_Epoch: 8 [9600/18900 (51%)]\tLoss: 1.839789\n",
      "Train_Epoch: 8 [12800/18900 (68%)]\tLoss: 1.937287\n",
      "Train_Epoch: 8 [16000/18900 (85%)]\tLoss: 1.933106\n",
      "Train_Epoch: 9 [0/18900 (0%)]\tLoss: 2.061029\n",
      "Train_Epoch: 9 [3200/18900 (17%)]\tLoss: 1.981073\n",
      "Train_Epoch: 9 [6400/18900 (34%)]\tLoss: 1.987299\n",
      "Train_Epoch: 9 [9600/18900 (51%)]\tLoss: 2.026795\n",
      "Train_Epoch: 9 [12800/18900 (68%)]\tLoss: 2.270766\n",
      "Train_Epoch: 9 [16000/18900 (85%)]\tLoss: 2.240668\n",
      "Train_Epoch: 10 [0/18900 (0%)]\tLoss: 2.379784\n",
      "Train_Epoch: 10 [3200/18900 (17%)]\tLoss: 2.091248\n",
      "Train_Epoch: 10 [6400/18900 (34%)]\tLoss: 2.418935\n",
      "Train_Epoch: 10 [9600/18900 (51%)]\tLoss: 2.533233\n",
      "Train_Epoch: 10 [12800/18900 (68%)]\tLoss: 2.030530\n",
      "Train_Epoch: 10 [16000/18900 (85%)]\tLoss: 2.580869\n",
      "Train_Epoch: 11 [0/18900 (0%)]\tLoss: 1.936822\n",
      "Train_Epoch: 11 [3200/18900 (17%)]\tLoss: 1.848898\n",
      "Train_Epoch: 11 [6400/18900 (34%)]\tLoss: 2.120150\n",
      "Train_Epoch: 11 [9600/18900 (51%)]\tLoss: 2.191321\n",
      "Train_Epoch: 11 [12800/18900 (68%)]\tLoss: 2.225567\n",
      "Train_Epoch: 11 [16000/18900 (85%)]\tLoss: 2.076712\n",
      "Train_Epoch: 12 [0/18900 (0%)]\tLoss: 1.885816\n",
      "Train_Epoch: 12 [3200/18900 (17%)]\tLoss: 2.428363\n",
      "Train_Epoch: 12 [6400/18900 (34%)]\tLoss: 2.339667\n",
      "Train_Epoch: 12 [9600/18900 (51%)]\tLoss: 2.227956\n",
      "Train_Epoch: 12 [12800/18900 (68%)]\tLoss: 2.347737\n",
      "Train_Epoch: 12 [16000/18900 (85%)]\tLoss: 2.386957\n",
      "Train_Epoch: 13 [0/18900 (0%)]\tLoss: 1.748955\n",
      "Train_Epoch: 13 [3200/18900 (17%)]\tLoss: 2.142198\n",
      "Train_Epoch: 13 [6400/18900 (34%)]\tLoss: 1.867515\n",
      "Train_Epoch: 13 [9600/18900 (51%)]\tLoss: 2.211212\n",
      "Train_Epoch: 13 [12800/18900 (68%)]\tLoss: 2.428497\n",
      "Train_Epoch: 13 [16000/18900 (85%)]\tLoss: 2.073992\n",
      "Train_Epoch: 14 [0/18900 (0%)]\tLoss: 2.223845\n",
      "Train_Epoch: 14 [3200/18900 (17%)]\tLoss: 1.828909\n",
      "Train_Epoch: 14 [6400/18900 (34%)]\tLoss: 2.341531\n",
      "Train_Epoch: 14 [9600/18900 (51%)]\tLoss: 2.133389\n",
      "Train_Epoch: 14 [12800/18900 (68%)]\tLoss: 1.659165\n",
      "Train_Epoch: 14 [16000/18900 (85%)]\tLoss: 2.198967\n",
      "Train_Epoch: 15 [0/18900 (0%)]\tLoss: 2.121043\n",
      "Train_Epoch: 15 [3200/18900 (17%)]\tLoss: 1.999679\n",
      "Train_Epoch: 15 [6400/18900 (34%)]\tLoss: 2.104997\n",
      "Train_Epoch: 15 [9600/18900 (51%)]\tLoss: 2.074962\n",
      "Train_Epoch: 15 [12800/18900 (68%)]\tLoss: 1.943813\n",
      "Train_Epoch: 15 [16000/18900 (85%)]\tLoss: 1.997817\n",
      "Train_Epoch: 16 [0/18900 (0%)]\tLoss: 2.105957\n",
      "Train_Epoch: 16 [3200/18900 (17%)]\tLoss: 2.416430\n",
      "Train_Epoch: 16 [6400/18900 (34%)]\tLoss: 2.415587\n",
      "Train_Epoch: 16 [9600/18900 (51%)]\tLoss: 2.208764\n",
      "Train_Epoch: 16 [12800/18900 (68%)]\tLoss: 2.034726\n",
      "Train_Epoch: 16 [16000/18900 (85%)]\tLoss: 2.147915\n",
      "Train_Epoch: 17 [0/18900 (0%)]\tLoss: 1.825655\n",
      "Train_Epoch: 17 [3200/18900 (17%)]\tLoss: 2.273227\n",
      "Train_Epoch: 17 [6400/18900 (34%)]\tLoss: 1.858561\n",
      "Train_Epoch: 17 [9600/18900 (51%)]\tLoss: 2.276409\n",
      "Train_Epoch: 17 [12800/18900 (68%)]\tLoss: 2.534935\n",
      "Train_Epoch: 17 [16000/18900 (85%)]\tLoss: 1.740429\n",
      "Train_Epoch: 18 [0/18900 (0%)]\tLoss: 1.986589\n",
      "Train_Epoch: 18 [3200/18900 (17%)]\tLoss: 2.082312\n",
      "Train_Epoch: 18 [6400/18900 (34%)]\tLoss: 1.935575\n",
      "Train_Epoch: 18 [9600/18900 (51%)]\tLoss: 1.896954\n",
      "Train_Epoch: 18 [12800/18900 (68%)]\tLoss: 2.210668\n",
      "Train_Epoch: 18 [16000/18900 (85%)]\tLoss: 2.124994\n",
      "Train_Epoch: 19 [0/18900 (0%)]\tLoss: 2.126684\n",
      "Train_Epoch: 19 [3200/18900 (17%)]\tLoss: 1.915039\n",
      "Train_Epoch: 19 [6400/18900 (34%)]\tLoss: 2.129449\n",
      "Train_Epoch: 19 [9600/18900 (51%)]\tLoss: 2.137802\n",
      "Train_Epoch: 19 [12800/18900 (68%)]\tLoss: 2.002743\n",
      "Train_Epoch: 19 [16000/18900 (85%)]\tLoss: 2.289936\n",
      "Train_Epoch: 20 [0/18900 (0%)]\tLoss: 2.119123\n",
      "Train_Epoch: 20 [3200/18900 (17%)]\tLoss: 2.304579\n",
      "Train_Epoch: 20 [6400/18900 (34%)]\tLoss: 1.980149\n",
      "Train_Epoch: 20 [9600/18900 (51%)]\tLoss: 2.454661\n",
      "Train_Epoch: 20 [12800/18900 (68%)]\tLoss: 2.128270\n",
      "Train_Epoch: 20 [16000/18900 (85%)]\tLoss: 1.893321\n",
      "Train_Epoch: 21 [0/18900 (0%)]\tLoss: 2.057268\n",
      "Train_Epoch: 21 [3200/18900 (17%)]\tLoss: 2.123247\n",
      "Train_Epoch: 21 [6400/18900 (34%)]\tLoss: 1.941424\n",
      "Train_Epoch: 21 [9600/18900 (51%)]\tLoss: 2.330143\n",
      "Train_Epoch: 21 [12800/18900 (68%)]\tLoss: 2.241991\n",
      "Train_Epoch: 21 [16000/18900 (85%)]\tLoss: 1.975679\n",
      "Train_Epoch: 22 [0/18900 (0%)]\tLoss: 2.252331\n",
      "Train_Epoch: 22 [3200/18900 (17%)]\tLoss: 2.109035\n",
      "Train_Epoch: 22 [6400/18900 (34%)]\tLoss: 2.206121\n",
      "Train_Epoch: 22 [9600/18900 (51%)]\tLoss: 2.042276\n",
      "Train_Epoch: 22 [12800/18900 (68%)]\tLoss: 2.032233\n",
      "Train_Epoch: 22 [16000/18900 (85%)]\tLoss: 2.110813\n",
      "Train_Epoch: 23 [0/18900 (0%)]\tLoss: 2.224794\n",
      "Train_Epoch: 23 [3200/18900 (17%)]\tLoss: 1.825518\n",
      "Train_Epoch: 23 [6400/18900 (34%)]\tLoss: 1.719998\n",
      "Train_Epoch: 23 [9600/18900 (51%)]\tLoss: 1.798111\n",
      "Train_Epoch: 23 [12800/18900 (68%)]\tLoss: 1.958513\n",
      "Train_Epoch: 23 [16000/18900 (85%)]\tLoss: 1.889644\n",
      "Train_Epoch: 24 [0/18900 (0%)]\tLoss: 2.092646\n",
      "Train_Epoch: 24 [3200/18900 (17%)]\tLoss: 2.046484\n",
      "Train_Epoch: 24 [6400/18900 (34%)]\tLoss: 1.993272\n",
      "Train_Epoch: 24 [9600/18900 (51%)]\tLoss: 1.792196\n",
      "Train_Epoch: 24 [12800/18900 (68%)]\tLoss: 1.986236\n",
      "Train_Epoch: 24 [16000/18900 (85%)]\tLoss: 2.255070\n",
      "Train_Epoch: 25 [0/18900 (0%)]\tLoss: 2.202938\n",
      "Train_Epoch: 25 [3200/18900 (17%)]\tLoss: 2.370500\n",
      "Train_Epoch: 25 [6400/18900 (34%)]\tLoss: 1.961131\n",
      "Train_Epoch: 25 [9600/18900 (51%)]\tLoss: 2.116258\n",
      "Train_Epoch: 25 [12800/18900 (68%)]\tLoss: 1.725037\n",
      "Train_Epoch: 25 [16000/18900 (85%)]\tLoss: 1.837028\n",
      "Train_Epoch: 26 [0/18900 (0%)]\tLoss: 2.030352\n",
      "Train_Epoch: 26 [3200/18900 (17%)]\tLoss: 2.222967\n",
      "Train_Epoch: 26 [6400/18900 (34%)]\tLoss: 1.926228\n",
      "Train_Epoch: 26 [9600/18900 (51%)]\tLoss: 2.035375\n",
      "Train_Epoch: 26 [12800/18900 (68%)]\tLoss: 1.911815\n",
      "Train_Epoch: 26 [16000/18900 (85%)]\tLoss: 2.142282\n",
      "Train_Epoch: 27 [0/18900 (0%)]\tLoss: 2.249254\n",
      "Train_Epoch: 27 [3200/18900 (17%)]\tLoss: 2.019025\n",
      "Train_Epoch: 27 [6400/18900 (34%)]\tLoss: 2.153481\n",
      "Train_Epoch: 27 [9600/18900 (51%)]\tLoss: 1.966632\n",
      "Train_Epoch: 27 [12800/18900 (68%)]\tLoss: 1.936659\n",
      "Train_Epoch: 27 [16000/18900 (85%)]\tLoss: 1.917295\n",
      "Train_Epoch: 28 [0/18900 (0%)]\tLoss: 2.140339\n",
      "Train_Epoch: 28 [3200/18900 (17%)]\tLoss: 1.891428\n",
      "Train_Epoch: 28 [6400/18900 (34%)]\tLoss: 2.120965\n",
      "Train_Epoch: 28 [9600/18900 (51%)]\tLoss: 1.831281\n",
      "Train_Epoch: 28 [12800/18900 (68%)]\tLoss: 2.080568\n",
      "Train_Epoch: 28 [16000/18900 (85%)]\tLoss: 2.560991\n",
      "Train_Epoch: 29 [0/18900 (0%)]\tLoss: 2.117269\n",
      "Train_Epoch: 29 [3200/18900 (17%)]\tLoss: 2.012012\n",
      "Train_Epoch: 29 [6400/18900 (34%)]\tLoss: 2.289264\n",
      "Train_Epoch: 29 [9600/18900 (51%)]\tLoss: 2.010667\n",
      "Train_Epoch: 29 [12800/18900 (68%)]\tLoss: 1.997778\n",
      "Train_Epoch: 29 [16000/18900 (85%)]\tLoss: 1.944682\n",
      "Train_Epoch: 30 [0/18900 (0%)]\tLoss: 1.925181\n",
      "Train_Epoch: 30 [3200/18900 (17%)]\tLoss: 2.101245\n",
      "Train_Epoch: 30 [6400/18900 (34%)]\tLoss: 2.007782\n",
      "Train_Epoch: 30 [9600/18900 (51%)]\tLoss: 2.019531\n",
      "Train_Epoch: 30 [12800/18900 (68%)]\tLoss: 2.092964\n",
      "Train_Epoch: 30 [16000/18900 (85%)]\tLoss: 1.515650\n",
      "Train_Epoch: 31 [0/18900 (0%)]\tLoss: 1.908772\n",
      "Train_Epoch: 31 [3200/18900 (17%)]\tLoss: 2.307267\n",
      "Train_Epoch: 31 [6400/18900 (34%)]\tLoss: 1.803041\n",
      "Train_Epoch: 31 [9600/18900 (51%)]\tLoss: 2.113938\n",
      "Train_Epoch: 31 [12800/18900 (68%)]\tLoss: 1.859033\n",
      "Train_Epoch: 31 [16000/18900 (85%)]\tLoss: 1.790628\n",
      "Train_Epoch: 32 [0/18900 (0%)]\tLoss: 2.150152\n",
      "Train_Epoch: 32 [3200/18900 (17%)]\tLoss: 1.926317\n",
      "Train_Epoch: 32 [6400/18900 (34%)]\tLoss: 1.884605\n",
      "Train_Epoch: 32 [9600/18900 (51%)]\tLoss: 2.007150\n",
      "Train_Epoch: 32 [12800/18900 (68%)]\tLoss: 2.104245\n",
      "Train_Epoch: 32 [16000/18900 (85%)]\tLoss: 1.958290\n",
      "Train_Epoch: 33 [0/18900 (0%)]\tLoss: 1.996191\n",
      "Train_Epoch: 33 [3200/18900 (17%)]\tLoss: 1.687794\n",
      "Train_Epoch: 33 [6400/18900 (34%)]\tLoss: 2.244837\n",
      "Train_Epoch: 33 [9600/18900 (51%)]\tLoss: 1.752957\n",
      "Train_Epoch: 33 [12800/18900 (68%)]\tLoss: 2.061783\n",
      "Train_Epoch: 33 [16000/18900 (85%)]\tLoss: 1.829387\n",
      "Train_Epoch: 34 [0/18900 (0%)]\tLoss: 1.929718\n",
      "Train_Epoch: 34 [3200/18900 (17%)]\tLoss: 1.827741\n",
      "Train_Epoch: 34 [6400/18900 (34%)]\tLoss: 1.571561\n",
      "Train_Epoch: 34 [9600/18900 (51%)]\tLoss: 2.332824\n",
      "Train_Epoch: 34 [12800/18900 (68%)]\tLoss: 1.994308\n",
      "Train_Epoch: 34 [16000/18900 (85%)]\tLoss: 1.990074\n",
      "Train_Epoch: 35 [0/18900 (0%)]\tLoss: 1.701934\n",
      "Train_Epoch: 35 [3200/18900 (17%)]\tLoss: 2.181008\n",
      "Train_Epoch: 35 [6400/18900 (34%)]\tLoss: 1.697681\n",
      "Train_Epoch: 35 [9600/18900 (51%)]\tLoss: 1.828360\n",
      "Train_Epoch: 35 [12800/18900 (68%)]\tLoss: 2.325138\n",
      "Train_Epoch: 35 [16000/18900 (85%)]\tLoss: 2.034243\n",
      "Train_Epoch: 36 [0/18900 (0%)]\tLoss: 1.763773\n",
      "Train_Epoch: 36 [3200/18900 (17%)]\tLoss: 1.832742\n",
      "Train_Epoch: 36 [6400/18900 (34%)]\tLoss: 2.057863\n",
      "Train_Epoch: 36 [9600/18900 (51%)]\tLoss: 2.115377\n",
      "Train_Epoch: 36 [12800/18900 (68%)]\tLoss: 2.093723\n",
      "Train_Epoch: 36 [16000/18900 (85%)]\tLoss: 1.973142\n",
      "Train_Epoch: 37 [0/18900 (0%)]\tLoss: 1.833676\n",
      "Train_Epoch: 37 [3200/18900 (17%)]\tLoss: 2.116985\n",
      "Train_Epoch: 37 [6400/18900 (34%)]\tLoss: 2.611271\n",
      "Train_Epoch: 37 [9600/18900 (51%)]\tLoss: 2.073272\n",
      "Train_Epoch: 37 [12800/18900 (68%)]\tLoss: 2.033170\n",
      "Train_Epoch: 37 [16000/18900 (85%)]\tLoss: 1.931340\n",
      "Train_Epoch: 38 [0/18900 (0%)]\tLoss: 1.671254\n",
      "Train_Epoch: 38 [3200/18900 (17%)]\tLoss: 1.739245\n",
      "Train_Epoch: 38 [6400/18900 (34%)]\tLoss: 1.873083\n",
      "Train_Epoch: 38 [9600/18900 (51%)]\tLoss: 1.765509\n",
      "Train_Epoch: 38 [12800/18900 (68%)]\tLoss: 2.043575\n",
      "Train_Epoch: 38 [16000/18900 (85%)]\tLoss: 2.169212\n",
      "Train_Epoch: 39 [0/18900 (0%)]\tLoss: 2.029039\n",
      "Train_Epoch: 39 [3200/18900 (17%)]\tLoss: 2.301443\n",
      "Train_Epoch: 39 [6400/18900 (34%)]\tLoss: 1.810324\n",
      "Train_Epoch: 39 [9600/18900 (51%)]\tLoss: 1.809551\n",
      "Train_Epoch: 39 [12800/18900 (68%)]\tLoss: 2.011074\n",
      "Train_Epoch: 39 [16000/18900 (85%)]\tLoss: 1.958423\n",
      "Train_Epoch: 40 [0/18900 (0%)]\tLoss: 1.868759\n",
      "Train_Epoch: 40 [3200/18900 (17%)]\tLoss: 1.982395\n",
      "Train_Epoch: 40 [6400/18900 (34%)]\tLoss: 2.037150\n",
      "Train_Epoch: 40 [9600/18900 (51%)]\tLoss: 2.123908\n",
      "Train_Epoch: 40 [12800/18900 (68%)]\tLoss: 2.088530\n",
      "Train_Epoch: 40 [16000/18900 (85%)]\tLoss: 2.145483\n",
      "Train_Epoch: 41 [0/18900 (0%)]\tLoss: 1.756543\n",
      "Train_Epoch: 41 [3200/18900 (17%)]\tLoss: 1.995579\n",
      "Train_Epoch: 41 [6400/18900 (34%)]\tLoss: 2.400199\n",
      "Train_Epoch: 41 [9600/18900 (51%)]\tLoss: 2.306455\n",
      "Train_Epoch: 41 [12800/18900 (68%)]\tLoss: 2.238408\n",
      "Train_Epoch: 41 [16000/18900 (85%)]\tLoss: 1.866293\n",
      "Train_Epoch: 42 [0/18900 (0%)]\tLoss: 2.278533\n",
      "Train_Epoch: 42 [3200/18900 (17%)]\tLoss: 2.231340\n",
      "Train_Epoch: 42 [6400/18900 (34%)]\tLoss: 2.211559\n",
      "Train_Epoch: 42 [9600/18900 (51%)]\tLoss: 1.761092\n",
      "Train_Epoch: 42 [12800/18900 (68%)]\tLoss: 1.679709\n",
      "Train_Epoch: 42 [16000/18900 (85%)]\tLoss: 2.118578\n",
      "Train_Epoch: 43 [0/18900 (0%)]\tLoss: 1.872360\n",
      "Train_Epoch: 43 [3200/18900 (17%)]\tLoss: 1.624442\n",
      "Train_Epoch: 43 [6400/18900 (34%)]\tLoss: 1.817913\n",
      "Train_Epoch: 43 [9600/18900 (51%)]\tLoss: 1.832638\n",
      "Train_Epoch: 43 [12800/18900 (68%)]\tLoss: 2.004422\n",
      "Train_Epoch: 43 [16000/18900 (85%)]\tLoss: 2.128704\n",
      "Train_Epoch: 44 [0/18900 (0%)]\tLoss: 1.761765\n",
      "Train_Epoch: 44 [3200/18900 (17%)]\tLoss: 1.832466\n",
      "Train_Epoch: 44 [6400/18900 (34%)]\tLoss: 1.952055\n",
      "Train_Epoch: 44 [9600/18900 (51%)]\tLoss: 2.252967\n",
      "Train_Epoch: 44 [12800/18900 (68%)]\tLoss: 1.949404\n",
      "Train_Epoch: 44 [16000/18900 (85%)]\tLoss: 1.907710\n",
      "Train_Epoch: 45 [0/18900 (0%)]\tLoss: 1.985380\n",
      "Train_Epoch: 45 [3200/18900 (17%)]\tLoss: 1.753518\n",
      "Train_Epoch: 45 [6400/18900 (34%)]\tLoss: 1.973332\n",
      "Train_Epoch: 45 [9600/18900 (51%)]\tLoss: 1.780456\n",
      "Train_Epoch: 45 [12800/18900 (68%)]\tLoss: 1.904205\n",
      "Train_Epoch: 45 [16000/18900 (85%)]\tLoss: 1.912697\n",
      "Train_Epoch: 46 [0/18900 (0%)]\tLoss: 2.117514\n",
      "Train_Epoch: 46 [3200/18900 (17%)]\tLoss: 1.914536\n",
      "Train_Epoch: 46 [6400/18900 (34%)]\tLoss: 1.958740\n",
      "Train_Epoch: 46 [9600/18900 (51%)]\tLoss: 1.674648\n",
      "Train_Epoch: 46 [12800/18900 (68%)]\tLoss: 2.549863\n",
      "Train_Epoch: 46 [16000/18900 (85%)]\tLoss: 1.900462\n",
      "Train_Epoch: 47 [0/18900 (0%)]\tLoss: 1.774659\n",
      "Train_Epoch: 47 [3200/18900 (17%)]\tLoss: 1.680635\n",
      "Train_Epoch: 47 [6400/18900 (34%)]\tLoss: 2.031453\n",
      "Train_Epoch: 47 [9600/18900 (51%)]\tLoss: 1.771276\n",
      "Train_Epoch: 47 [12800/18900 (68%)]\tLoss: 2.035356\n",
      "Train_Epoch: 47 [16000/18900 (85%)]\tLoss: 1.995395\n",
      "Train_Epoch: 48 [0/18900 (0%)]\tLoss: 1.935307\n",
      "Train_Epoch: 48 [3200/18900 (17%)]\tLoss: 1.984362\n",
      "Train_Epoch: 48 [6400/18900 (34%)]\tLoss: 1.932345\n",
      "Train_Epoch: 48 [9600/18900 (51%)]\tLoss: 2.278817\n",
      "Train_Epoch: 48 [12800/18900 (68%)]\tLoss: 1.732178\n",
      "Train_Epoch: 48 [16000/18900 (85%)]\tLoss: 1.771540\n",
      "Train_Epoch: 49 [0/18900 (0%)]\tLoss: 2.125999\n",
      "Train_Epoch: 49 [3200/18900 (17%)]\tLoss: 1.954337\n",
      "Train_Epoch: 49 [6400/18900 (34%)]\tLoss: 1.735867\n",
      "Train_Epoch: 49 [9600/18900 (51%)]\tLoss: 2.066697\n"
     ]
    }
   ],
   "source": [
    "# HyperParameter Settings\n",
    "epochs = 100 # 에포크 횟수\n",
    "log_interval = 100 # 로그를 보기위한 간격\n",
    "\n",
    "\n",
    "# Training\n",
    "for epoch in range(1, epochs + 1):\n",
    "  # Train Mode\n",
    "  model.train()\n",
    "    \n",
    "  for batch_idx, (data, target) in enumerate(train_loader):\n",
    "    data, target = data.to(device), target.to(device)\n",
    "    optimizer.zero_grad()\n",
    "    output = model(data)\n",
    "    loss = criterion(output, target)\n",
    "    loss.backward()\n",
    "    optimizer.step()\n",
    "    \n",
    "    if batch_idx % log_interval == 0:\n",
    "      print('Train_Epoch: {} [{}/{} ({:.0f}%)]\\tLoss: {:.6f}'.format(\n",
    "      \tepoch, batch_idx * len(data), len(train_loader.dataset),\n",
    "      \t100 * batch_idx / len(train_loader), loss.item()\n",
    "      ))"
   ]
  },
  {
   "cell_type": "code",
   "execution_count": null,
   "id": "3cd5dbf3-0f09-4b8a-a3ba-c25ecb25fe86",
   "metadata": {},
   "outputs": [],
   "source": []
  },
  {
   "cell_type": "code",
   "execution_count": null,
   "id": "e1505a60-d5a3-430a-8ce0-e90f45a57f3b",
   "metadata": {},
   "outputs": [],
   "source": []
  },
  {
   "cell_type": "code",
   "execution_count": null,
   "id": "ac9f8c8d-47b3-4e42-a506-1baca072202a",
   "metadata": {},
   "outputs": [],
   "source": []
  },
  {
   "cell_type": "code",
   "execution_count": null,
   "id": "fa156039-5bdc-445d-8ecd-b8c29fa8abfb",
   "metadata": {},
   "outputs": [],
   "source": []
  },
  {
   "cell_type": "code",
   "execution_count": null,
   "id": "733eb7e2-b58b-45ac-9e49-c31bf6303c19",
   "metadata": {},
   "outputs": [],
   "source": []
  }
 ],
 "metadata": {
  "kernelspec": {
   "display_name": "Python 3 (ipykernel)",
   "language": "python",
   "name": "python3"
  },
  "language_info": {
   "codemirror_mode": {
    "name": "ipython",
    "version": 3
   },
   "file_extension": ".py",
   "mimetype": "text/x-python",
   "name": "python",
   "nbconvert_exporter": "python",
   "pygments_lexer": "ipython3",
   "version": "3.8.5"
  }
 },
 "nbformat": 4,
 "nbformat_minor": 5
}
